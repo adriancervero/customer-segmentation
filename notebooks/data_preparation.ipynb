{
 "cells": [
  {
   "cell_type": "markdown",
   "id": "a2756c5e-0d3a-4c1d-abeb-7bcec0a7ea04",
   "metadata": {},
   "source": [
    "# Creating product categories\n",
    "In this notebook we are going to create clusters from our data. These will serve us as product categories.\n",
    "\n",
    "Steps:\n",
    "   1. Load data\n",
    "   2. Cleaning data\n",
    "   3. Extract keywords from product description as identifiers for our products.\n",
    "   4. Create a count vectorizer matrix using the keywords\n",
    "   5. Build clusters using kmods algorithm"
   ]
  },
  {
   "cell_type": "markdown",
   "id": "1a3c2a2b-6401-4b53-b82c-fb9e0761025c",
   "metadata": {},
   "source": [
    "### Imports"
   ]
  },
  {
   "cell_type": "code",
   "execution_count": 269,
   "id": "61a8675f-0c2c-4676-9b9d-fc5d3077a425",
   "metadata": {},
   "outputs": [],
   "source": [
    "import pandas as pd\n",
    "import numpy as np\n",
    "import matplotlib.pyplot as plt\n",
    "import seaborn as sns\n",
    "import nltk\n",
    "from wordcloud import WordCloud\n",
    "\n",
    "from sklearn.feature_extraction.text import CountVectorizer\n",
    "from kmodes.kmodes import KModes\n",
    "from sklearn.metrics import silhouette_score, silhouette_samples"
   ]
  },
  {
   "cell_type": "markdown",
   "id": "97462058-b84d-45c0-ba24-504a2d41bb49",
   "metadata": {},
   "source": [
    "## 1. Load data"
   ]
  },
  {
   "cell_type": "code",
   "execution_count": 2,
   "id": "1a17843f-e864-46fa-8856-1b3e7faba97e",
   "metadata": {},
   "outputs": [],
   "source": [
    "data = pd.read_csv('../data/data.csv')"
   ]
  },
  {
   "cell_type": "code",
   "execution_count": 3,
   "id": "2bb8ba50-be43-4e68-8d3a-f0363a94b79b",
   "metadata": {},
   "outputs": [
    {
     "data": {
      "text/html": [
       "<div>\n",
       "<style scoped>\n",
       "    .dataframe tbody tr th:only-of-type {\n",
       "        vertical-align: middle;\n",
       "    }\n",
       "\n",
       "    .dataframe tbody tr th {\n",
       "        vertical-align: top;\n",
       "    }\n",
       "\n",
       "    .dataframe thead th {\n",
       "        text-align: right;\n",
       "    }\n",
       "</style>\n",
       "<table border=\"1\" class=\"dataframe\">\n",
       "  <thead>\n",
       "    <tr style=\"text-align: right;\">\n",
       "      <th></th>\n",
       "      <th>InvoiceNo</th>\n",
       "      <th>StockCode</th>\n",
       "      <th>Description</th>\n",
       "      <th>Quantity</th>\n",
       "      <th>InvoiceDate</th>\n",
       "      <th>UnitPrice</th>\n",
       "      <th>CustomerID</th>\n",
       "      <th>Country</th>\n",
       "    </tr>\n",
       "  </thead>\n",
       "  <tbody>\n",
       "    <tr>\n",
       "      <th>0</th>\n",
       "      <td>536365</td>\n",
       "      <td>85123A</td>\n",
       "      <td>WHITE HANGING HEART T-LIGHT HOLDER</td>\n",
       "      <td>6</td>\n",
       "      <td>12/1/2010 8:26</td>\n",
       "      <td>2.55</td>\n",
       "      <td>17850.0</td>\n",
       "      <td>United Kingdom</td>\n",
       "    </tr>\n",
       "    <tr>\n",
       "      <th>1</th>\n",
       "      <td>536365</td>\n",
       "      <td>71053</td>\n",
       "      <td>WHITE METAL LANTERN</td>\n",
       "      <td>6</td>\n",
       "      <td>12/1/2010 8:26</td>\n",
       "      <td>3.39</td>\n",
       "      <td>17850.0</td>\n",
       "      <td>United Kingdom</td>\n",
       "    </tr>\n",
       "    <tr>\n",
       "      <th>2</th>\n",
       "      <td>536365</td>\n",
       "      <td>84406B</td>\n",
       "      <td>CREAM CUPID HEARTS COAT HANGER</td>\n",
       "      <td>8</td>\n",
       "      <td>12/1/2010 8:26</td>\n",
       "      <td>2.75</td>\n",
       "      <td>17850.0</td>\n",
       "      <td>United Kingdom</td>\n",
       "    </tr>\n",
       "    <tr>\n",
       "      <th>3</th>\n",
       "      <td>536365</td>\n",
       "      <td>84029G</td>\n",
       "      <td>KNITTED UNION FLAG HOT WATER BOTTLE</td>\n",
       "      <td>6</td>\n",
       "      <td>12/1/2010 8:26</td>\n",
       "      <td>3.39</td>\n",
       "      <td>17850.0</td>\n",
       "      <td>United Kingdom</td>\n",
       "    </tr>\n",
       "    <tr>\n",
       "      <th>4</th>\n",
       "      <td>536365</td>\n",
       "      <td>84029E</td>\n",
       "      <td>RED WOOLLY HOTTIE WHITE HEART.</td>\n",
       "      <td>6</td>\n",
       "      <td>12/1/2010 8:26</td>\n",
       "      <td>3.39</td>\n",
       "      <td>17850.0</td>\n",
       "      <td>United Kingdom</td>\n",
       "    </tr>\n",
       "  </tbody>\n",
       "</table>\n",
       "</div>"
      ],
      "text/plain": [
       "  InvoiceNo StockCode                          Description  Quantity  \\\n",
       "0    536365    85123A   WHITE HANGING HEART T-LIGHT HOLDER         6   \n",
       "1    536365     71053                  WHITE METAL LANTERN         6   \n",
       "2    536365    84406B       CREAM CUPID HEARTS COAT HANGER         8   \n",
       "3    536365    84029G  KNITTED UNION FLAG HOT WATER BOTTLE         6   \n",
       "4    536365    84029E       RED WOOLLY HOTTIE WHITE HEART.         6   \n",
       "\n",
       "      InvoiceDate  UnitPrice  CustomerID         Country  \n",
       "0  12/1/2010 8:26       2.55     17850.0  United Kingdom  \n",
       "1  12/1/2010 8:26       3.39     17850.0  United Kingdom  \n",
       "2  12/1/2010 8:26       2.75     17850.0  United Kingdom  \n",
       "3  12/1/2010 8:26       3.39     17850.0  United Kingdom  \n",
       "4  12/1/2010 8:26       3.39     17850.0  United Kingdom  "
      ]
     },
     "execution_count": 3,
     "metadata": {},
     "output_type": "execute_result"
    }
   ],
   "source": [
    "data.head()"
   ]
  },
  {
   "cell_type": "markdown",
   "id": "32dcf0a5-4179-44a2-a782-81595b102bcf",
   "metadata": {},
   "source": [
    "## 2. Cleaning the data"
   ]
  },
  {
   "cell_type": "markdown",
   "id": "e24e9958-37ae-4f73-97f4-23617e0f6394",
   "metadata": {},
   "source": [
    "We need all product description. First, we are going to remove descriptions that are no products using StockCode variable."
   ]
  },
  {
   "cell_type": "code",
   "execution_count": 181,
   "id": "c8358451-804e-4f9d-994e-b3b4cdedd829",
   "metadata": {},
   "outputs": [],
   "source": [
    "are_product = data['StockCode'].apply(lambda code: code[0].isnumeric())\n",
    "price_not_zero = data['UnitPrice'] > 0\n",
    "df = data[are_product & price_not_zero][['Description', 'UnitPrice']]"
   ]
  },
  {
   "cell_type": "code",
   "execution_count": 182,
   "id": "cb7416ec-89df-45b4-9d72-09cf86186ba8",
   "metadata": {},
   "outputs": [
    {
     "data": {
      "text/plain": [
       "(536429, 2)"
      ]
     },
     "execution_count": 182,
     "metadata": {},
     "output_type": "execute_result"
    }
   ],
   "source": [
    "df.shape"
   ]
  },
  {
   "cell_type": "markdown",
   "id": "1a729c48-d8f7-47fa-98e3-502743d8ddc7",
   "metadata": {},
   "source": [
    "Now, we need to get rid of missing values in Description column, because is the feature we use to create the counts matrix.\n",
    "\\\n",
    "Also we will drop duplicates."
   ]
  },
  {
   "cell_type": "code",
   "execution_count": 183,
   "id": "24e50f30-e5e9-4f2e-b9f1-b0d8360c38a7",
   "metadata": {},
   "outputs": [
    {
     "data": {
      "text/plain": [
       "Description    0\n",
       "UnitPrice      0\n",
       "dtype: int64"
      ]
     },
     "execution_count": 183,
     "metadata": {},
     "output_type": "execute_result"
    }
   ],
   "source": [
    "df.isna().sum()"
   ]
  },
  {
   "cell_type": "code",
   "execution_count": 184,
   "id": "836aaebf-a177-48cd-bb34-c69e6002eea2",
   "metadata": {},
   "outputs": [],
   "source": [
    "df = df.dropna().drop_duplicates(subset='Description')"
   ]
  },
  {
   "cell_type": "code",
   "execution_count": 185,
   "id": "547ab344-d1f0-4a28-a06e-7ae5c8364d3e",
   "metadata": {},
   "outputs": [
    {
     "data": {
      "text/plain": [
       "Description    0\n",
       "UnitPrice      0\n",
       "dtype: int64"
      ]
     },
     "execution_count": 185,
     "metadata": {},
     "output_type": "execute_result"
    }
   ],
   "source": [
    "df.isna().sum()"
   ]
  },
  {
   "cell_type": "code",
   "execution_count": 186,
   "id": "ad365734-edce-4f40-a129-0f85742cd5fd",
   "metadata": {},
   "outputs": [
    {
     "data": {
      "text/plain": [
       "(4019, 2)"
      ]
     },
     "execution_count": 186,
     "metadata": {},
     "output_type": "execute_result"
    }
   ],
   "source": [
    "df.shape"
   ]
  },
  {
   "cell_type": "code",
   "execution_count": 187,
   "id": "ed3acec2-d30f-4441-a463-a7706e96fadc",
   "metadata": {},
   "outputs": [
    {
     "data": {
      "text/html": [
       "<div>\n",
       "<style scoped>\n",
       "    .dataframe tbody tr th:only-of-type {\n",
       "        vertical-align: middle;\n",
       "    }\n",
       "\n",
       "    .dataframe tbody tr th {\n",
       "        vertical-align: top;\n",
       "    }\n",
       "\n",
       "    .dataframe thead th {\n",
       "        text-align: right;\n",
       "    }\n",
       "</style>\n",
       "<table border=\"1\" class=\"dataframe\">\n",
       "  <thead>\n",
       "    <tr style=\"text-align: right;\">\n",
       "      <th></th>\n",
       "      <th>Description</th>\n",
       "      <th>UnitPrice</th>\n",
       "    </tr>\n",
       "  </thead>\n",
       "  <tbody>\n",
       "    <tr>\n",
       "      <th>0</th>\n",
       "      <td>WHITE HANGING HEART T-LIGHT HOLDER</td>\n",
       "      <td>2.55</td>\n",
       "    </tr>\n",
       "    <tr>\n",
       "      <th>1</th>\n",
       "      <td>WHITE METAL LANTERN</td>\n",
       "      <td>3.39</td>\n",
       "    </tr>\n",
       "    <tr>\n",
       "      <th>2</th>\n",
       "      <td>CREAM CUPID HEARTS COAT HANGER</td>\n",
       "      <td>2.75</td>\n",
       "    </tr>\n",
       "    <tr>\n",
       "      <th>3</th>\n",
       "      <td>KNITTED UNION FLAG HOT WATER BOTTLE</td>\n",
       "      <td>3.39</td>\n",
       "    </tr>\n",
       "    <tr>\n",
       "      <th>4</th>\n",
       "      <td>RED WOOLLY HOTTIE WHITE HEART.</td>\n",
       "      <td>3.39</td>\n",
       "    </tr>\n",
       "  </tbody>\n",
       "</table>\n",
       "</div>"
      ],
      "text/plain": [
       "                           Description  UnitPrice\n",
       "0   WHITE HANGING HEART T-LIGHT HOLDER       2.55\n",
       "1                  WHITE METAL LANTERN       3.39\n",
       "2       CREAM CUPID HEARTS COAT HANGER       2.75\n",
       "3  KNITTED UNION FLAG HOT WATER BOTTLE       3.39\n",
       "4       RED WOOLLY HOTTIE WHITE HEART.       3.39"
      ]
     },
     "execution_count": 187,
     "metadata": {},
     "output_type": "execute_result"
    }
   ],
   "source": [
    "df.head()"
   ]
  },
  {
   "cell_type": "markdown",
   "id": "548f5366-478c-4f2f-bf55-8e7c1fc3c278",
   "metadata": {},
   "source": [
    "## 3. Extracting product names from descriptions"
   ]
  },
  {
   "cell_type": "markdown",
   "id": "73e51f6a-3bfb-401c-8ddd-be172af6e8f4",
   "metadata": {},
   "source": [
    "Now we will extract nouns from product descriptions using NLTK module for pos tagging, stemming and tokenizing words."
   ]
  },
  {
   "cell_type": "code",
   "execution_count": 188,
   "id": "ba116f2e-6681-4a75-a77e-e19f93b89c12",
   "metadata": {},
   "outputs": [],
   "source": [
    "\"\"\"\n",
    "products (dict):    \n",
    "    key:      \n",
    "        nouns from descriptions\n",
    "\n",
    "    values: {\n",
    "            count: noun freq in the data\n",
    "            words: list of words associated with the product\n",
    "            keyword: product keyword\n",
    "        }\n",
    "\"\"\"\n",
    "products = {} \n",
    "\n",
    "def update_counter(pos_tags):\n",
    "    \"\"\" \n",
    "        Process POS tagged words list to get product \n",
    "        names and counts and update keywords dict \n",
    "    \"\"\"\n",
    "    stemmer = nltk.stem.snowball.SnowballStemmer('english')\n",
    "    \n",
    "    for word, tag in pos_tags:\n",
    "            if word == 'necklac':\n",
    "                word = 'necklace'\n",
    "            if 'NN' in tag:\n",
    "                root = stemmer.stem(word)\n",
    "                if root in products.keys():\n",
    "                    products[root]['count'] += 1\n",
    "                    if word not in products[root]['words']:\n",
    "                        products[root]['words'].append(word)\n",
    "                        if len(word) < len(products[root]['keyword']):\n",
    "                            products[root]['keyword'] = word\n",
    "                else:\n",
    "                    products[root] = {'count': 1, 'words':[word], 'keyword':word}"
   ]
  },
  {
   "cell_type": "code",
   "execution_count": 189,
   "id": "f1a222e8-be04-412e-8fc1-7deaaaf1d5e6",
   "metadata": {},
   "outputs": [
    {
     "name": "stdout",
     "output_type": "stream",
     "text": [
      "CPU times: user 1.76 s, sys: 7.72 ms, total: 1.77 s\n",
      "Wall time: 1.77 s\n"
     ]
    },
    {
     "data": {
      "text/plain": [
       "0         None\n",
       "1         None\n",
       "2         None\n",
       "3         None\n",
       "4         None\n",
       "          ... \n",
       "507867    None\n",
       "512588    None\n",
       "527065    None\n",
       "537621    None\n",
       "540421    None\n",
       "Name: Description, Length: 4019, dtype: object"
      ]
     },
     "execution_count": 189,
     "metadata": {},
     "output_type": "execute_result"
    }
   ],
   "source": [
    "%%time\n",
    "products = {}\n",
    "df['Description'].str.lower().apply(nltk.word_tokenize).apply(nltk.pos_tag).apply(update_counter)"
   ]
  },
  {
   "cell_type": "markdown",
   "id": "2f56c75f-aaf0-4aa0-a183-451334a6ef2e",
   "metadata": {},
   "source": [
    "Let's plot most frequent words"
   ]
  },
  {
   "cell_type": "code",
   "execution_count": 190,
   "id": "af403b7d-b343-415f-bfa3-ad9f2db7928c",
   "metadata": {},
   "outputs": [
    {
     "data": {
      "text/plain": [
       "{'count': 100, 'words': ['necklace'], 'keyword': 'necklace'}"
      ]
     },
     "execution_count": 190,
     "metadata": {},
     "output_type": "execute_result"
    }
   ],
   "source": [
    "products['necklac']"
   ]
  },
  {
   "cell_type": "code",
   "execution_count": 191,
   "id": "4216c2a4-ea89-4eea-82ed-d4a0b21730bb",
   "metadata": {},
   "outputs": [
    {
     "data": {
      "text/plain": [
       "[('heart', 269), ('vintage', 215), ('set', 207), ('pink', 199), ('bag', 167)]"
      ]
     },
     "execution_count": 191,
     "metadata": {},
     "output_type": "execute_result"
    }
   ],
   "source": [
    "word_counts = [(value['keyword'],value['count']) for value  in products.values()]\n",
    "word_counts.sort(key=lambda x: x[1], reverse=True)\n",
    "word_counts[:5]"
   ]
  },
  {
   "cell_type": "code",
   "execution_count": 192,
   "id": "9a297e9e-3f71-406d-97ba-92b2c1fe875e",
   "metadata": {},
   "outputs": [],
   "source": [
    "word_counts_df = pd.DataFrame(word_counts, columns=['word', 'count'])"
   ]
  },
  {
   "cell_type": "code",
   "execution_count": 193,
   "id": "6bc072f5-9748-4960-8c6b-459b27b2dbfa",
   "metadata": {},
   "outputs": [
    {
     "data": {
      "image/png": "[encoded data removed]",
      "text/plain": [
       "<Figure size 720x1440 with 1 Axes>"
      ]
     },
     "metadata": {
      "needs_background": "light"
     },
     "output_type": "display_data"
    }
   ],
   "source": [
    "plt.figure(figsize=(10, 20))\n",
    "sns.barplot(x='count', y='word', data=word_counts_df[:50], color='blue');"
   ]
  },
  {
   "cell_type": "markdown",
   "id": "3d74bd17-d986-42d3-a433-5817f76180eb",
   "metadata": {},
   "source": [
    "* There are some words that are not nouns (colors as pink, blue...)"
   ]
  },
  {
   "cell_type": "markdown",
   "id": "ff477299-43fd-4240-ab1a-1c006b16ff5c",
   "metadata": {},
   "source": [
    "Removing invalid words"
   ]
  },
  {
   "cell_type": "code",
   "execution_count": 194,
   "id": "424c6e97-ba29-43bf-8017-958e07023f32",
   "metadata": {},
   "outputs": [],
   "source": [
    "len_greater_2 = word_counts_df['word'].str.len() > 2\n",
    "count_greater_13 = word_counts_df['count'] > 13\n",
    "nouns = ~word_counts_df['word'].isin(['pink', 'blue'])\n",
    "\n",
    "keywords = word_counts_df[len_greater_2 & count_greater_13 & nouns]['word'].values"
   ]
  },
  {
   "cell_type": "code",
   "execution_count": 195,
   "id": "640b23cb-5993-4045-a2ec-ab0c7d56a183",
   "metadata": {},
   "outputs": [
    {
     "data": {
      "text/plain": [
       "(array(['heart', 'vintage', 'set', 'bag', 'glass', 'box', 'christmas',\n",
       "        'design', 'card', 'candle', 'flower', 'holder', 'decoration',\n",
       "        'necklace', 'metal', 'retrospot', 'paper', 'art', 'silver', 'cake',\n",
       "        'earrings', 'mug', 'polkadot', 'cover', 'tin', 'wrap', 'bracelet',\n",
       "        'sign', 'egg', 'pack', 'star', 'mini', 'bowl', 'ivory', 'garden',\n",
       "        'tea', 'wall', 'cushion', 'frame', 'mirror', 'gift', 'cream',\n",
       "        'home', 'charm', 'ring', 'bird', 'bead', 'bottle', 'clock',\n",
       "        'paisley', 'letter', 'party', 'gold', 'wood', 'ribbon', 'garland',\n",
       "        'hook', 'jar', 'butterfly', 'easter', 'drawer', 'water', 'cup',\n",
       "        'zinc', 'photo', 'bell', 'plate', 'tray', 'pencil', 'skull',\n",
       "        'spot', 'children', 'enamel', 'case', 'round', 'tissue',\n",
       "        'sweetheart', 'stand', 'sticker', 'diamante', 'drop', 'spaceboy',\n",
       "        'light', 'cutlery', 'tree', 'union', 'rabbit', 'magnet', 'pantry',\n",
       "        'colour', 'lunch', 'pot', 'book', 'baroque', 'storage', 'hair',\n",
       "        'bunny', 'chocolate', 'basket', 'birthday', 'dog', 'cat',\n",
       "        'feltcraft', 'coffee', 'flock', 'door', 'fairy', 'wire', 'trinket',\n",
       "        'gingham', 'antique', 'shell', 'towel', 'london', 'cabinet',\n",
       "        'sweet', 'kit', 'babushka', 't-light', 'notebook', 'reel', 'retro',\n",
       "        'number', 'jack', 'woodland', 'strawberry', 'wicker', 'ball',\n",
       "        'apple', 'tube', 'daisy', 'hanger', 'hand', 'kitchen', 'purse',\n",
       "        'dinner', 'style', 'jam', 'tape', 'doormat', 'table', 'pen',\n",
       "        'chick', 'leaf', 'toy', 'knob', 'shape', 'doiley', 'warmer',\n",
       "        'wreath', 'stripe', 'green', 'parasol', 'cherry', 'cottage',\n",
       "        'travel', 'doilies', 'crystal', 'biscuit', 'regency', 'hen',\n",
       "        'phone', 'jigsaw', 'rack', 'coaster', 'money', 'incense', 'girl',\n",
       "        'tag', 'fruit', 'medium', 'dish', 'image', 'orbit', 'picture',\n",
       "        'wooden', 'piece', 'bathroom', 'childs', 'pan', 'food', 'pearl'],\n",
       "       dtype=object),\n",
       " 182)"
      ]
     },
     "execution_count": 195,
     "metadata": {},
     "output_type": "execute_result"
    }
   ],
   "source": [
    "# Final keywords for the count vectorizer\n",
    "keywords, len(keywords)"
   ]
  },
  {
   "cell_type": "markdown",
   "id": "9d73de92-50c8-4e90-af5d-30a564f5cafc",
   "metadata": {},
   "source": [
    "## 3. Count Vectorizer"
   ]
  },
  {
   "cell_type": "code",
   "execution_count": 214,
   "id": "f1e42319-a4bc-4a9b-9014-b9ae41731769",
   "metadata": {},
   "outputs": [],
   "source": [
    "vectorizer = CountVectorizer(vocabulary=keywords)\n",
    "word_counts = vectorizer.fit_transform(df['Description'])"
   ]
  },
  {
   "cell_type": "markdown",
   "id": "e1f5fa19-eee5-474e-9cee-4dc837aca6a8",
   "metadata": {},
   "source": [
    "Let's add range price as new feature"
   ]
  },
  {
   "cell_type": "code",
   "execution_count": 197,
   "id": "1f981820-031f-4894-91af-d639dff72a6c",
   "metadata": {},
   "outputs": [
    {
     "data": {
      "text/plain": [
       "(1.0, 2.0]     946\n",
       "(2.0, 3.0]     758\n",
       "(0.0, 1.0]     739\n",
       "(3.0, 5.0]     702\n",
       "(5.0, 10.0]    624\n",
       "(10.0, inf]    250\n",
       "Name: UnitPrice, dtype: int64"
      ]
     },
     "execution_count": 197,
     "metadata": {},
     "output_type": "execute_result"
    }
   ],
   "source": [
    "bins = [0, 1, 2, 3, 5, 10, np.inf]\n",
    "price_ranges = pd.cut(df['UnitPrice'], bins)\n",
    "price_ranges.value_counts()"
   ]
  },
  {
   "cell_type": "code",
   "execution_count": 203,
   "id": "111a418c-e7a6-4fe0-8f6b-61611de2ba04",
   "metadata": {},
   "outputs": [
    {
     "data": {
      "text/plain": [
       "array([[0, 0, 1, 0, 0, 0],\n",
       "       [0, 0, 0, 1, 0, 0],\n",
       "       [0, 0, 1, 0, 0, 0],\n",
       "       ...,\n",
       "       [1, 0, 0, 0, 0, 0],\n",
       "       [0, 0, 1, 0, 0, 0],\n",
       "       [0, 0, 1, 0, 0, 0]], dtype=uint8)"
      ]
     },
     "execution_count": 203,
     "metadata": {},
     "output_type": "execute_result"
    }
   ],
   "source": [
    "price_matrix = pd.get_dummies(price_ranges).values\n",
    "price_matrix"
   ]
  },
  {
   "cell_type": "code",
   "execution_count": 215,
   "id": "f1953d3d-f56b-4ab2-9c83-8c795dce4a24",
   "metadata": {},
   "outputs": [
    {
     "data": {
      "text/plain": [
       "((4019, 182), (4019, 6))"
      ]
     },
     "execution_count": 215,
     "metadata": {},
     "output_type": "execute_result"
    }
   ],
   "source": [
    "word_counts.shape, price_matrix.shape"
   ]
  },
  {
   "cell_type": "code",
   "execution_count": 217,
   "id": "9f1f0870-d23a-4892-a5a6-896e12d15f9c",
   "metadata": {},
   "outputs": [
    {
     "data": {
      "text/plain": [
       "(4019, 188)"
      ]
     },
     "execution_count": 217,
     "metadata": {},
     "output_type": "execute_result"
    }
   ],
   "source": [
    "X = np.concatenate([word_counts.toarray(), price_matrix], axis=1)\n",
    "X.shape"
   ]
  },
  {
   "cell_type": "markdown",
   "id": "d448d222-49ec-4a78-af22-cdbc91cd08e9",
   "metadata": {},
   "source": [
    "## 4. Create clusters"
   ]
  },
  {
   "cell_type": "markdown",
   "id": "a8c0df9f-5635-4cad-afcd-d51f565258f8",
   "metadata": {},
   "source": [
    "The most suitable metric for the calculation of distances is the Hamming's metric. So we will use kmodes module to create the clusters"
   ]
  },
  {
   "cell_type": "code",
   "execution_count": 220,
   "id": "f0a33a7c-5070-48f8-a807-8737d9be9bad",
   "metadata": {},
   "outputs": [],
   "source": [
    "km = KModes()"
   ]
  },
  {
   "cell_type": "code",
   "execution_count": 262,
   "id": "33d43b8b-7073-4ddf-ad9e-d7b5bf974c0b",
   "metadata": {},
   "outputs": [
    {
     "name": "stdout",
     "output_type": "stream",
     "text": [
      "For n_clusters = 3, The average silhouette_score is: 0.10766310238847605\n",
      "For n_clusters = 4, The average silhouette_score is: 0.14692263100762784\n",
      "For n_clusters = 5, The average silhouette_score is: 0.17811488708922968\n",
      "For n_clusters = 6, The average silhouette_score is: 0.15992461510554204\n",
      "For n_clusters = 7, The average silhouette_score is: 0.17979765773293538\n",
      "For n_clusters = 8, The average silhouette_score is: 0.11895672385292642\n",
      "For n_clusters = 9, The average silhouette_score is: 0.12672118892496648\n"
     ]
    }
   ],
   "source": [
    "n_clusters = np.arange(3, 10)\n",
    "for n in n_clusters:\n",
    "    km = KModes(n_clusters=n,  init='Huang', n_init=5)\n",
    "    km.fit(X)\n",
    "    clusters = km.predict(X)\n",
    "    silhouette_avg = silhouette_score(X, clusters)\n",
    "    print(f'For n_clusters = {n}, The average silhouette_score is: {silhouette_avg}')"
   ]
  },
  {
   "cell_type": "code",
   "execution_count": 265,
   "id": "2ff4c495-1f4e-43f8-a45d-c3992d34f4ae",
   "metadata": {},
   "outputs": [],
   "source": [
    "import matplotlib.cm as cm\n",
    "\n",
    "def plot_sihouette(X, n_clusters):\n",
    "    km = KModes(n_clusters=n_clusters,  init='Huang', n_init=5)\n",
    "    cluster_labels = km.fit_predict(X)\n",
    "    sample_silhouette_values = silhouette_samples(X, cluster_labels)\n",
    "    \n",
    "    fig, ax = plt.subplots(1, 1, figsize=(10, 8))\n",
    "    ax.set_xlim([-0.1, 1])\n",
    "    ax.set_ylim(0, len(X) + (n_clusters + 1) * 10 )\n",
    "    \n",
    "    y_lower = 10\n",
    "    for i in range(n_clusters):\n",
    "        samples_i = sample_silhouette_values[cluster_labels == i]\n",
    "        samples_i.sort()\n",
    "        \n",
    "        size_cluster_i = samples_i.shape[0]\n",
    "        y_upper = y_lower + size_cluster_i\n",
    "        \n",
    "        color = cm.nipy_spectral(float(i) / n_clusters)\n",
    "        \n",
    "        ax.fill_betweenx(np.arange(y_lower, y_upper),\n",
    "                        0, samples_i, facecolor=color, edgecolor=color,\n",
    "                        alpha=0.7)\n",
    "        # cluster labels\n",
    "        ax.text(-0.05, y_lower + 0.5 * size_cluster_i, str(i))\n",
    "        \n",
    "        # compute the new y_lower for next plot\n",
    "        y_lower = y_upper + 10\n",
    "\n",
    "    ax.set_title(\"The silhouette plot for the various clusters.\")\n",
    "    ax.set_xlabel(\"The silhouette coefficient values\")\n",
    "    ax.set_ylabel(\"Cluster label\")\n",
    "\n",
    "    # The vertical line for average silhouette score of all the values\n",
    "    ax.axvline(x=silhouette_avg, color=\"red\", linestyle=\"--\")\n",
    "\n",
    "    ax.set_yticks([])  # Clear the yaxis labels / ticks\n",
    "    ax.set_xticks([-0.1, 0, 0.2, 0.4, 0.6, 0.8, 1])\n",
    "        \n",
    "        "
   ]
  },
  {
   "cell_type": "code",
   "execution_count": 266,
   "id": "cb452783-00bd-4e43-b0e4-a9a4907b3b1c",
   "metadata": {},
   "outputs": [
    {
     "data": {
      "image/png": "[encoded data removed]",
      "text/plain": [
       "<Figure size 720x576 with 1 Axes>"
      ]
     },
     "metadata": {
      "needs_background": "light"
     },
     "output_type": "display_data"
    }
   ],
   "source": [
    "plot_sihouette(X, n_clusters=5)"
   ]
  },
  {
   "cell_type": "markdown",
   "id": "4de55e75-239b-4722-839e-42c9b2862188",
   "metadata": {},
   "source": [
    "5 clusters seems the best candidate"
   ]
  },
  {
   "cell_type": "code",
   "execution_count": null,
   "id": "375fae2b-c267-4785-95d4-289b890d6acc",
   "metadata": {},
   "outputs": [],
   "source": [
    "def plot_wordclouds(cluster_labels, count_dict):\n",
    "    fig, axs = plt.subplots(2, 3)\n",
    "    \n",
    "    wc = Wordcloud"
   ]
  }
 ],
 "metadata": {
  "kernelspec": {
   "display_name": "Python 3",
   "language": "python",
   "name": "python3"
  },
  "language_info": {
   "codemirror_mode": {
    "name": "ipython",
    "version": 3
   },
   "file_extension": ".py",
   "mimetype": "text/x-python",
   "name": "python",
   "nbconvert_exporter": "python",
   "pygments_lexer": "ipython3",
   "version": "3.9.4"
  }
 },
 "nbformat": 4,
 "nbformat_minor": 5
}
