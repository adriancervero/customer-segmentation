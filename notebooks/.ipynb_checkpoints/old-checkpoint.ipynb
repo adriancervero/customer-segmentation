{
 "cells": [
  {
   "cell_type": "code",
   "execution_count": 1,
   "id": "8f9efe7d-3e12-480d-a929-5e0ef61ea715",
   "metadata": {},
   "outputs": [],
   "source": [
    "import pandas as pd\n",
    "import numpy as np\n",
    "import nltk\n",
    "import seaborn as sns\n",
    "import matplotlib.pyplot as plt"
   ]
  },
  {
   "cell_type": "code",
   "execution_count": 2,
   "id": "3f8e8aa6-1946-4961-912a-3ce9adc6ada2",
   "metadata": {},
   "outputs": [
    {
     "data": {
      "text/html": [
       "<div>\n",
       "<style scoped>\n",
       "    .dataframe tbody tr th:only-of-type {\n",
       "        vertical-align: middle;\n",
       "    }\n",
       "\n",
       "    .dataframe tbody tr th {\n",
       "        vertical-align: top;\n",
       "    }\n",
       "\n",
       "    .dataframe thead th {\n",
       "        text-align: right;\n",
       "    }\n",
       "</style>\n",
       "<table border=\"1\" class=\"dataframe\">\n",
       "  <thead>\n",
       "    <tr style=\"text-align: right;\">\n",
       "      <th></th>\n",
       "      <th>InvoiceNo</th>\n",
       "      <th>StockCode</th>\n",
       "      <th>Description</th>\n",
       "      <th>Quantity</th>\n",
       "      <th>InvoiceDate</th>\n",
       "      <th>UnitPrice</th>\n",
       "      <th>CustomerID</th>\n",
       "      <th>Country</th>\n",
       "    </tr>\n",
       "  </thead>\n",
       "  <tbody>\n",
       "    <tr>\n",
       "      <th>0</th>\n",
       "      <td>536365</td>\n",
       "      <td>85123A</td>\n",
       "      <td>WHITE HANGING HEART T-LIGHT HOLDER</td>\n",
       "      <td>6</td>\n",
       "      <td>12/1/2010 8:26</td>\n",
       "      <td>2.55</td>\n",
       "      <td>17850.0</td>\n",
       "      <td>United Kingdom</td>\n",
       "    </tr>\n",
       "    <tr>\n",
       "      <th>1</th>\n",
       "      <td>536365</td>\n",
       "      <td>71053</td>\n",
       "      <td>WHITE METAL LANTERN</td>\n",
       "      <td>6</td>\n",
       "      <td>12/1/2010 8:26</td>\n",
       "      <td>3.39</td>\n",
       "      <td>17850.0</td>\n",
       "      <td>United Kingdom</td>\n",
       "    </tr>\n",
       "    <tr>\n",
       "      <th>2</th>\n",
       "      <td>536365</td>\n",
       "      <td>84406B</td>\n",
       "      <td>CREAM CUPID HEARTS COAT HANGER</td>\n",
       "      <td>8</td>\n",
       "      <td>12/1/2010 8:26</td>\n",
       "      <td>2.75</td>\n",
       "      <td>17850.0</td>\n",
       "      <td>United Kingdom</td>\n",
       "    </tr>\n",
       "    <tr>\n",
       "      <th>3</th>\n",
       "      <td>536365</td>\n",
       "      <td>84029G</td>\n",
       "      <td>KNITTED UNION FLAG HOT WATER BOTTLE</td>\n",
       "      <td>6</td>\n",
       "      <td>12/1/2010 8:26</td>\n",
       "      <td>3.39</td>\n",
       "      <td>17850.0</td>\n",
       "      <td>United Kingdom</td>\n",
       "    </tr>\n",
       "    <tr>\n",
       "      <th>4</th>\n",
       "      <td>536365</td>\n",
       "      <td>84029E</td>\n",
       "      <td>RED WOOLLY HOTTIE WHITE HEART.</td>\n",
       "      <td>6</td>\n",
       "      <td>12/1/2010 8:26</td>\n",
       "      <td>3.39</td>\n",
       "      <td>17850.0</td>\n",
       "      <td>United Kingdom</td>\n",
       "    </tr>\n",
       "  </tbody>\n",
       "</table>\n",
       "</div>"
      ],
      "text/plain": [
       "  InvoiceNo StockCode                          Description  Quantity  \\\n",
       "0    536365    85123A   WHITE HANGING HEART T-LIGHT HOLDER         6   \n",
       "1    536365     71053                  WHITE METAL LANTERN         6   \n",
       "2    536365    84406B       CREAM CUPID HEARTS COAT HANGER         8   \n",
       "3    536365    84029G  KNITTED UNION FLAG HOT WATER BOTTLE         6   \n",
       "4    536365    84029E       RED WOOLLY HOTTIE WHITE HEART.         6   \n",
       "\n",
       "      InvoiceDate  UnitPrice  CustomerID         Country  \n",
       "0  12/1/2010 8:26       2.55     17850.0  United Kingdom  \n",
       "1  12/1/2010 8:26       3.39     17850.0  United Kingdom  \n",
       "2  12/1/2010 8:26       2.75     17850.0  United Kingdom  \n",
       "3  12/1/2010 8:26       3.39     17850.0  United Kingdom  \n",
       "4  12/1/2010 8:26       3.39     17850.0  United Kingdom  "
      ]
     },
     "execution_count": 2,
     "metadata": {},
     "output_type": "execute_result"
    }
   ],
   "source": [
    "df = pd.read_csv('../data/data.csv')\n",
    "df.head()"
   ]
  },
  {
   "cell_type": "markdown",
   "id": "2dfb98a1-91d6-40e0-9bb8-714a36d9dfe3",
   "metadata": {},
   "source": [
    "## 2. Missing values"
   ]
  },
  {
   "cell_type": "code",
   "execution_count": 3,
   "id": "e73f98d5-22c7-40ed-97f7-0fab03e0a840",
   "metadata": {},
   "outputs": [],
   "source": [
    "codes = df[~df['Description'].isna()][['StockCode', 'Description']].drop_duplicates()"
   ]
  },
  {
   "cell_type": "code",
   "execution_count": 4,
   "id": "4f8f7fb6-8ebd-4d8f-ab4b-969794f64c11",
   "metadata": {},
   "outputs": [],
   "source": [
    "nans = df[df['Description'].isna()]"
   ]
  },
  {
   "cell_type": "code",
   "execution_count": 5,
   "id": "d789f160-6856-470f-bcd3-83a3f704268f",
   "metadata": {},
   "outputs": [
    {
     "data": {
      "text/html": [
       "<div>\n",
       "<style scoped>\n",
       "    .dataframe tbody tr th:only-of-type {\n",
       "        vertical-align: middle;\n",
       "    }\n",
       "\n",
       "    .dataframe tbody tr th {\n",
       "        vertical-align: top;\n",
       "    }\n",
       "\n",
       "    .dataframe thead th {\n",
       "        text-align: right;\n",
       "    }\n",
       "</style>\n",
       "<table border=\"1\" class=\"dataframe\">\n",
       "  <thead>\n",
       "    <tr style=\"text-align: right;\">\n",
       "      <th></th>\n",
       "      <th>InvoiceNo</th>\n",
       "      <th>StockCode</th>\n",
       "      <th>Quantity</th>\n",
       "      <th>InvoiceDate</th>\n",
       "      <th>UnitPrice</th>\n",
       "      <th>CustomerID</th>\n",
       "      <th>Country</th>\n",
       "      <th>Description</th>\n",
       "    </tr>\n",
       "  </thead>\n",
       "  <tbody>\n",
       "    <tr>\n",
       "      <th>0</th>\n",
       "      <td>536414</td>\n",
       "      <td>22139</td>\n",
       "      <td>56</td>\n",
       "      <td>12/1/2010 11:52</td>\n",
       "      <td>0.0</td>\n",
       "      <td>NaN</td>\n",
       "      <td>United Kingdom</td>\n",
       "      <td>RETROSPOT TEA SET CERAMIC 11 PC</td>\n",
       "    </tr>\n",
       "    <tr>\n",
       "      <th>1</th>\n",
       "      <td>536414</td>\n",
       "      <td>22139</td>\n",
       "      <td>56</td>\n",
       "      <td>12/1/2010 11:52</td>\n",
       "      <td>0.0</td>\n",
       "      <td>NaN</td>\n",
       "      <td>United Kingdom</td>\n",
       "      <td>amazon</td>\n",
       "    </tr>\n",
       "    <tr>\n",
       "      <th>2</th>\n",
       "      <td>537011</td>\n",
       "      <td>22139</td>\n",
       "      <td>-5</td>\n",
       "      <td>12/3/2010 15:38</td>\n",
       "      <td>0.0</td>\n",
       "      <td>NaN</td>\n",
       "      <td>United Kingdom</td>\n",
       "      <td>RETROSPOT TEA SET CERAMIC 11 PC</td>\n",
       "    </tr>\n",
       "    <tr>\n",
       "      <th>3</th>\n",
       "      <td>537011</td>\n",
       "      <td>22139</td>\n",
       "      <td>-5</td>\n",
       "      <td>12/3/2010 15:38</td>\n",
       "      <td>0.0</td>\n",
       "      <td>NaN</td>\n",
       "      <td>United Kingdom</td>\n",
       "      <td>amazon</td>\n",
       "    </tr>\n",
       "    <tr>\n",
       "      <th>4</th>\n",
       "      <td>538039</td>\n",
       "      <td>22139</td>\n",
       "      <td>7</td>\n",
       "      <td>12/9/2010 13:07</td>\n",
       "      <td>0.0</td>\n",
       "      <td>NaN</td>\n",
       "      <td>United Kingdom</td>\n",
       "      <td>RETROSPOT TEA SET CERAMIC 11 PC</td>\n",
       "    </tr>\n",
       "    <tr>\n",
       "      <th>...</th>\n",
       "      <td>...</td>\n",
       "      <td>...</td>\n",
       "      <td>...</td>\n",
       "      <td>...</td>\n",
       "      <td>...</td>\n",
       "      <td>...</td>\n",
       "      <td>...</td>\n",
       "      <td>...</td>\n",
       "    </tr>\n",
       "    <tr>\n",
       "      <th>1877</th>\n",
       "      <td>581408</td>\n",
       "      <td>85175</td>\n",
       "      <td>20</td>\n",
       "      <td>12/8/2011 14:06</td>\n",
       "      <td>0.0</td>\n",
       "      <td>NaN</td>\n",
       "      <td>United Kingdom</td>\n",
       "      <td>Amazon sold sets</td>\n",
       "    </tr>\n",
       "    <tr>\n",
       "      <th>1878</th>\n",
       "      <td>581408</td>\n",
       "      <td>85175</td>\n",
       "      <td>20</td>\n",
       "      <td>12/8/2011 14:06</td>\n",
       "      <td>0.0</td>\n",
       "      <td>NaN</td>\n",
       "      <td>United Kingdom</td>\n",
       "      <td>dotcom sold sets</td>\n",
       "    </tr>\n",
       "    <tr>\n",
       "      <th>1879</th>\n",
       "      <td>581408</td>\n",
       "      <td>85175</td>\n",
       "      <td>20</td>\n",
       "      <td>12/8/2011 14:06</td>\n",
       "      <td>0.0</td>\n",
       "      <td>NaN</td>\n",
       "      <td>United Kingdom</td>\n",
       "      <td>wrongly sold sets</td>\n",
       "    </tr>\n",
       "    <tr>\n",
       "      <th>1880</th>\n",
       "      <td>581408</td>\n",
       "      <td>85175</td>\n",
       "      <td>20</td>\n",
       "      <td>12/8/2011 14:06</td>\n",
       "      <td>0.0</td>\n",
       "      <td>NaN</td>\n",
       "      <td>United Kingdom</td>\n",
       "      <td>? sold as sets?</td>\n",
       "    </tr>\n",
       "    <tr>\n",
       "      <th>1881</th>\n",
       "      <td>581408</td>\n",
       "      <td>85175</td>\n",
       "      <td>20</td>\n",
       "      <td>12/8/2011 14:06</td>\n",
       "      <td>0.0</td>\n",
       "      <td>NaN</td>\n",
       "      <td>United Kingdom</td>\n",
       "      <td>check</td>\n",
       "    </tr>\n",
       "  </tbody>\n",
       "</table>\n",
       "<p>1882 rows × 8 columns</p>\n",
       "</div>"
      ],
      "text/plain": [
       "     InvoiceNo StockCode  Quantity      InvoiceDate  UnitPrice  CustomerID  \\\n",
       "0       536414     22139        56  12/1/2010 11:52        0.0         NaN   \n",
       "1       536414     22139        56  12/1/2010 11:52        0.0         NaN   \n",
       "2       537011     22139        -5  12/3/2010 15:38        0.0         NaN   \n",
       "3       537011     22139        -5  12/3/2010 15:38        0.0         NaN   \n",
       "4       538039     22139         7  12/9/2010 13:07        0.0         NaN   \n",
       "...        ...       ...       ...              ...        ...         ...   \n",
       "1877    581408     85175        20  12/8/2011 14:06        0.0         NaN   \n",
       "1878    581408     85175        20  12/8/2011 14:06        0.0         NaN   \n",
       "1879    581408     85175        20  12/8/2011 14:06        0.0         NaN   \n",
       "1880    581408     85175        20  12/8/2011 14:06        0.0         NaN   \n",
       "1881    581408     85175        20  12/8/2011 14:06        0.0         NaN   \n",
       "\n",
       "             Country                       Description  \n",
       "0     United Kingdom  RETROSPOT TEA SET CERAMIC 11 PC   \n",
       "1     United Kingdom                            amazon  \n",
       "2     United Kingdom  RETROSPOT TEA SET CERAMIC 11 PC   \n",
       "3     United Kingdom                            amazon  \n",
       "4     United Kingdom  RETROSPOT TEA SET CERAMIC 11 PC   \n",
       "...              ...                               ...  \n",
       "1877  United Kingdom                  Amazon sold sets  \n",
       "1878  United Kingdom                  dotcom sold sets  \n",
       "1879  United Kingdom                 wrongly sold sets  \n",
       "1880  United Kingdom                   ? sold as sets?  \n",
       "1881  United Kingdom                             check  \n",
       "\n",
       "[1882 rows x 8 columns]"
      ]
     },
     "execution_count": 5,
     "metadata": {},
     "output_type": "execute_result"
    }
   ],
   "source": [
    "pd.merge(nans.drop('Description', axis=1), codes, on='StockCode')"
   ]
  },
  {
   "cell_type": "markdown",
   "id": "b4ac76a6-82f1-48af-a57e-de2490139dc1",
   "metadata": {},
   "source": [
    "## 3. Creating product categories"
   ]
  },
  {
   "cell_type": "markdown",
   "id": "c3185b7e-e2ff-4ce7-9466-2a371cf21415",
   "metadata": {},
   "source": [
    "In this section we will define categories for the products using Description feature."
   ]
  },
  {
   "cell_type": "code",
   "execution_count": 6,
   "id": "9dce005d-d7d6-4e86-b970-08e796be2316",
   "metadata": {},
   "outputs": [
    {
     "data": {
      "text/html": [
       "<div>\n",
       "<style scoped>\n",
       "    .dataframe tbody tr th:only-of-type {\n",
       "        vertical-align: middle;\n",
       "    }\n",
       "\n",
       "    .dataframe tbody tr th {\n",
       "        vertical-align: top;\n",
       "    }\n",
       "\n",
       "    .dataframe thead th {\n",
       "        text-align: right;\n",
       "    }\n",
       "</style>\n",
       "<table border=\"1\" class=\"dataframe\">\n",
       "  <thead>\n",
       "    <tr style=\"text-align: right;\">\n",
       "      <th></th>\n",
       "      <th>StockCode</th>\n",
       "      <th>Description</th>\n",
       "    </tr>\n",
       "  </thead>\n",
       "  <tbody>\n",
       "    <tr>\n",
       "      <th>0</th>\n",
       "      <td>85123A</td>\n",
       "      <td>WHITE HANGING HEART T-LIGHT HOLDER</td>\n",
       "    </tr>\n",
       "    <tr>\n",
       "      <th>1</th>\n",
       "      <td>71053</td>\n",
       "      <td>WHITE METAL LANTERN</td>\n",
       "    </tr>\n",
       "    <tr>\n",
       "      <th>2</th>\n",
       "      <td>84406B</td>\n",
       "      <td>CREAM CUPID HEARTS COAT HANGER</td>\n",
       "    </tr>\n",
       "    <tr>\n",
       "      <th>3</th>\n",
       "      <td>84029G</td>\n",
       "      <td>KNITTED UNION FLAG HOT WATER BOTTLE</td>\n",
       "    </tr>\n",
       "    <tr>\n",
       "      <th>4</th>\n",
       "      <td>84029E</td>\n",
       "      <td>RED WOOLLY HOTTIE WHITE HEART.</td>\n",
       "    </tr>\n",
       "  </tbody>\n",
       "</table>\n",
       "</div>"
      ],
      "text/plain": [
       "  StockCode                          Description\n",
       "0    85123A   WHITE HANGING HEART T-LIGHT HOLDER\n",
       "1     71053                  WHITE METAL LANTERN\n",
       "2    84406B       CREAM CUPID HEARTS COAT HANGER\n",
       "3    84029G  KNITTED UNION FLAG HOT WATER BOTTLE\n",
       "4    84029E       RED WOOLLY HOTTIE WHITE HEART."
      ]
     },
     "execution_count": 6,
     "metadata": {},
     "output_type": "execute_result"
    }
   ],
   "source": [
    "df[['StockCode', 'Description']].head()"
   ]
  },
  {
   "cell_type": "code",
   "execution_count": 7,
   "id": "85d70033-309e-40d3-8040-ab4d158fdf98",
   "metadata": {},
   "outputs": [],
   "source": [
    "#nltk.download('averaged_perceptron_tagger')"
   ]
  },
  {
   "cell_type": "code",
   "execution_count": 8,
   "id": "67c8d734-c406-4f7f-9454-9dedcb5348be",
   "metadata": {},
   "outputs": [],
   "source": [
    "stemmer = nltk.stem.snowball.SnowballStemmer('english')\n",
    "\n",
    "def process_words(description):\n",
    "    \"\"\" Gets tokens from description and uses stemming for getting\n",
    "        the roots of each word. Return list of tokens \"\"\"\n",
    "    \n",
    "    tokens = nltk.word_tokenize(description)\n",
    "    stemmed = [stemmer.stem(word) for word in tokens]\n",
    "    tags = nltk.pos_tag(stemmed)\n",
    "    return tags\n",
    "\n",
    "def count_nouns(words, nouns):\n",
    "    \"\"\" Update nouns counter dict \"\"\"\n",
    "    for word, tag in words:\n",
    "        if tag == 'NN': # is noun\n",
    "            if word in nouns.keys():\n",
    "                nouns[word] += 1\n",
    "            else:\n",
    "                nouns[word] = 1\n",
    "\n",
    "def product_categories(df):\n",
    "    \"\"\" \n",
    "        Compute dictionary with product categories and frequency \n",
    "        in the dataframe\n",
    "    \"\"\"\n",
    "    # the root nouns would be our categories for the products\n",
    "    nouns = {}\n",
    "    word_tags = df['Description'].dropna().apply(process_words)\n",
    "    #word_tags.apply(lambda words: count_nouns(words, nouns))\n",
    "    \n",
    "    return nouns\n",
    "    \n",
    "    \n",
    "    "
   ]
  },
  {
   "cell_type": "code",
   "execution_count": 9,
   "id": "22be67fd-8785-466c-85c3-a7a7f4ce0e26",
   "metadata": {},
   "outputs": [
    {
     "name": "stdout",
     "output_type": "stream",
     "text": [
      "CPU times: user 4.44 s, sys: 111 ms, total: 4.55 s\n",
      "Wall time: 4.55 s\n"
     ]
    }
   ],
   "source": [
    "%%time\n",
    "nouns = product_categories(df.head(10000))"
   ]
  },
  {
   "cell_type": "code",
   "execution_count": 10,
   "id": "0b82d29a-b3eb-4864-9b57-6525933ab176",
   "metadata": {},
   "outputs": [],
   "source": [
    "import nltk                                 \n",
    "from nltk.tokenize import word_tokenize        # https://www.tutorialspoint.com/python_data_science/python_word_tokenization.htm\n",
    "from nltk.stem.snowball import SnowballStemmer # https://www.nltk.org/howto/stem.html\n",
    "from nltk.probability import FreqDist          # http://www.nltk.org/api/nltk.html?highlight=freqdist\n",
    "from nltk.corpus import stopwords"
   ]
  },
  {
   "cell_type": "code",
   "execution_count": 11,
   "id": "e8e82097-022e-4992-91b0-516ff5169b6b",
   "metadata": {},
   "outputs": [],
   "source": [
    "def pos_tagging(words):\n",
    "    tokens = nltk.word_tokenize(words)\n",
    "    pos_tagged = nltk.pos_tag(tokens)\n",
    "    return pos_tagged"
   ]
  },
  {
   "cell_type": "code",
   "execution_count": 13,
   "id": "01f088b6-2c48-41d5-a5a0-508209eb3144",
   "metadata": {},
   "outputs": [],
   "source": [
    "from tqdm import tqdm\n",
    "def noun_counter(words):\n",
    "    stopwords = nltk.corpus.stopwords.words('english')\n",
    "    stemmer = nltk.stem.snowball.SnowballStemmer('english')\n",
    "    \n",
    "    nouns = {} # dict for store words associated for each root and count\n",
    "    \n",
    "    for word, tag in tqdm(pos_tagged):\n",
    "        word = word.lower()\n",
    "        if word.isalnum() and 'NN' in tag and word not in stopwords:\n",
    "            root = stemmer.stem(word)\n",
    "            if root in nouns.keys():\n",
    "                nouns[root]['count'] += 1\n",
    "          \n",
    "                if word not in nouns[root]['words']:\n",
    "                    nouns[root]['words'].append(word)\n",
    "            else: \n",
    "                nouns[root] = {'count': 1, 'words': [word]}\n",
    "                #print(nouns[root])\n",
    "            \n",
    "    return nouns"
   ]
  },
  {
   "cell_type": "code",
   "execution_count": null,
   "id": "2eebe5dc-20eb-4a11-915f-b229dfb63132",
   "metadata": {},
   "outputs": [],
   "source": []
  },
  {
   "cell_type": "code",
   "execution_count": 14,
   "id": "9e1d32cf-d5f4-454e-94a0-875d46ece658",
   "metadata": {},
   "outputs": [
    {
     "name": "stdout",
     "output_type": "stream",
     "text": [
      "CPU times: user 2min 14s, sys: 204 ms, total: 2min 14s\n",
      "Wall time: 2min 14s\n"
     ]
    }
   ],
   "source": [
    "%%time\n",
    "sample = df['Description'].dropna()\n",
    "sentences = '.'.join(sample.tolist())\n",
    "pos_tagged = pos_tagging(sentences)"
   ]
  },
  {
   "cell_type": "code",
   "execution_count": 15,
   "id": "b96799c6-df9b-4e9a-b8f4-cb9ddfc13ac0",
   "metadata": {},
   "outputs": [
    {
     "name": "stderr",
     "output_type": "stream",
     "text": [
      "100%|██████████| 2389623/2389623 [00:33<00:00, 71678.43it/s]\n"
     ]
    }
   ],
   "source": [
    "counts = noun_counter(pos_tagged)"
   ]
  },
  {
   "cell_type": "code",
   "execution_count": 16,
   "id": "bfc486ab-31a2-4d11-9c88-282a9185b91f",
   "metadata": {},
   "outputs": [],
   "source": [
    "word_counts = [(key, counts[key]['count']) for key in counts.keys()]"
   ]
  },
  {
   "cell_type": "code",
   "execution_count": 17,
   "id": "f865312a-7901-45ad-a3a0-e7dc27b5da9d",
   "metadata": {},
   "outputs": [],
   "source": [
    "word_counts.sort(key=lambda x: x[1], reverse=True)"
   ]
  },
  {
   "cell_type": "code",
   "execution_count": 18,
   "id": "13687937-3f09-49b7-b3be-d8e3eaf254b9",
   "metadata": {},
   "outputs": [],
   "source": [
    "df = pd.DataFrame(word_counts, columns=['word', 'count'])"
   ]
  },
  {
   "cell_type": "code",
   "execution_count": 19,
   "id": "f649166c-ffe4-44fc-aa0f-13493dda544a",
   "metadata": {},
   "outputs": [
    {
     "data": {
      "text/html": [
       "<div>\n",
       "<style scoped>\n",
       "    .dataframe tbody tr th:only-of-type {\n",
       "        vertical-align: middle;\n",
       "    }\n",
       "\n",
       "    .dataframe tbody tr th {\n",
       "        vertical-align: top;\n",
       "    }\n",
       "\n",
       "    .dataframe thead th {\n",
       "        text-align: right;\n",
       "    }\n",
       "</style>\n",
       "<table border=\"1\" class=\"dataframe\">\n",
       "  <thead>\n",
       "    <tr style=\"text-align: right;\">\n",
       "      <th></th>\n",
       "      <th>word</th>\n",
       "      <th>count</th>\n",
       "    </tr>\n",
       "  </thead>\n",
       "  <tbody>\n",
       "    <tr>\n",
       "      <th>0</th>\n",
       "      <td>set</td>\n",
       "      <td>55470</td>\n",
       "    </tr>\n",
       "    <tr>\n",
       "      <th>1</th>\n",
       "      <td>bag</td>\n",
       "      <td>52199</td>\n",
       "    </tr>\n",
       "    <tr>\n",
       "      <th>2</th>\n",
       "      <td>heart</td>\n",
       "      <td>44186</td>\n",
       "    </tr>\n",
       "    <tr>\n",
       "      <th>3</th>\n",
       "      <td>red</td>\n",
       "      <td>42984</td>\n",
       "    </tr>\n",
       "    <tr>\n",
       "      <th>4</th>\n",
       "      <td>retrospot</td>\n",
       "      <td>35126</td>\n",
       "    </tr>\n",
       "  </tbody>\n",
       "</table>\n",
       "</div>"
      ],
      "text/plain": [
       "        word  count\n",
       "0        set  55470\n",
       "1        bag  52199\n",
       "2      heart  44186\n",
       "3        red  42984\n",
       "4  retrospot  35126"
      ]
     },
     "execution_count": 19,
     "metadata": {},
     "output_type": "execute_result"
    }
   ],
   "source": [
    "df.head()"
   ]
  },
  {
   "cell_type": "code",
   "execution_count": 20,
   "id": "3add4b9e-ea49-48f5-b4d2-6e19ef7301a2",
   "metadata": {},
   "outputs": [
    {
     "data": {
      "image/png": "[encoded data removed]",
      "text/plain": [
       "<Figure size 720x1080 with 1 Axes>"
      ]
     },
     "metadata": {
      "needs_background": "light"
     },
     "output_type": "display_data"
    }
   ],
   "source": [
    "plt.figure(figsize=(10,15))\n",
    "sns.barplot(y='word', x='count', data=df[:50], color='blue');"
   ]
  },
  {
   "cell_type": "code",
   "execution_count": 21,
   "id": "e1194c2f-bc8a-4a3a-aff9-d03a94efb876",
   "metadata": {},
   "outputs": [],
   "source": [
    "# removing words with low freq\n",
    "df = df[df['count'] > 13]"
   ]
  },
  {
   "cell_type": "code",
   "execution_count": 22,
   "id": "29fa1383-8047-4ca1-bef2-1e91e87b162c",
   "metadata": {},
   "outputs": [],
   "source": [
    "def is_valid(word):\n",
    "    \"\"\" Check if word is valid \"\"\"\n",
    "    if len(word) < 3:\n",
    "        return False\n",
    "    elif word in ['pink', 'white', 'blue', 'tag', 'green', 'orange', 'red']:\n",
    "        return False\n",
    "    else:\n",
    "        return True\n",
    "        "
   ]
  },
  {
   "cell_type": "code",
   "execution_count": 23,
   "id": "1ac6f107-ee08-44c6-8c3a-38424b3054e7",
   "metadata": {},
   "outputs": [],
   "source": [
    "# removing non-nouns words\n",
    "df = df[df['word'].apply(is_valid)]"
   ]
  },
  {
   "cell_type": "code",
   "execution_count": 24,
   "id": "b3f3f72a-c65c-4a0b-8d4c-9631dcffc01e",
   "metadata": {},
   "outputs": [
    {
     "data": {
      "text/plain": [
       "1500"
      ]
     },
     "execution_count": 24,
     "metadata": {},
     "output_type": "execute_result"
    }
   ],
   "source": [
    "df['word'].nunique()"
   ]
  },
  {
   "cell_type": "code",
   "execution_count": null,
   "id": "a7b14e03-3ca5-4c57-83ea-5aebd7ab9490",
   "metadata": {},
   "outputs": [],
   "source": []
  }
 ],
 "metadata": {
  "kernelspec": {
   "display_name": "Python 3",
   "language": "python",
   "name": "python3"
  },
  "language_info": {
   "codemirror_mode": {
    "name": "ipython",
    "version": 3
   },
   "file_extension": ".py",
   "mimetype": "text/x-python",
   "name": "python",
   "nbconvert_exporter": "python",
   "pygments_lexer": "ipython3",
   "version": "3.9.4"
  }
 },
 "nbformat": 4,
 "nbformat_minor": 5
}
