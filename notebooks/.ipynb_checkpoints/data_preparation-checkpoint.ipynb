{
 "cells": [
  {
   "cell_type": "markdown",
   "id": "a2756c5e-0d3a-4c1d-abeb-7bcec0a7ea04",
   "metadata": {},
   "source": [
    "# Creating product categories\n",
    "In this notebook we are going to create clusters from our data. These will serve us as product categories.\n",
    "\n",
    "Steps:\n",
    "   1. Load data\n",
    "   2. Cleaning data\n",
    "   3. Extract keywords from product description as identifiers for our products.\n",
    "   4. Create a count vectorizer matrix using the keywords\n",
    "   5. Build clusters using kmods algorithm"
   ]
  },
  {
   "cell_type": "markdown",
   "id": "1a3c2a2b-6401-4b53-b82c-fb9e0761025c",
   "metadata": {},
   "source": [
    "### Imports"
   ]
  },
  {
   "cell_type": "code",
   "execution_count": 1,
   "id": "61a8675f-0c2c-4676-9b9d-fc5d3077a425",
   "metadata": {},
   "outputs": [],
   "source": [
    "import pandas as pd\n",
    "import numpy as np\n",
    "import matplotlib.pyplot as plt\n",
    "import seaborn as sns\n",
    "import nltk\n",
    "\n",
    "from sklearn.feature_extraction.text import CountVectorizer"
   ]
  },
  {
   "cell_type": "markdown",
   "id": "97462058-b84d-45c0-ba24-504a2d41bb49",
   "metadata": {},
   "source": [
    "## 1. Load data"
   ]
  },
  {
   "cell_type": "code",
   "execution_count": 2,
   "id": "1a17843f-e864-46fa-8856-1b3e7faba97e",
   "metadata": {},
   "outputs": [],
   "source": [
    "data = pd.read_csv('../data/data.csv')"
   ]
  },
  {
   "cell_type": "code",
   "execution_count": 3,
   "id": "2bb8ba50-be43-4e68-8d3a-f0363a94b79b",
   "metadata": {},
   "outputs": [
    {
     "data": {
      "text/html": [
       "<div>\n",
       "<style scoped>\n",
       "    .dataframe tbody tr th:only-of-type {\n",
       "        vertical-align: middle;\n",
       "    }\n",
       "\n",
       "    .dataframe tbody tr th {\n",
       "        vertical-align: top;\n",
       "    }\n",
       "\n",
       "    .dataframe thead th {\n",
       "        text-align: right;\n",
       "    }\n",
       "</style>\n",
       "<table border=\"1\" class=\"dataframe\">\n",
       "  <thead>\n",
       "    <tr style=\"text-align: right;\">\n",
       "      <th></th>\n",
       "      <th>InvoiceNo</th>\n",
       "      <th>StockCode</th>\n",
       "      <th>Description</th>\n",
       "      <th>Quantity</th>\n",
       "      <th>InvoiceDate</th>\n",
       "      <th>UnitPrice</th>\n",
       "      <th>CustomerID</th>\n",
       "      <th>Country</th>\n",
       "    </tr>\n",
       "  </thead>\n",
       "  <tbody>\n",
       "    <tr>\n",
       "      <th>0</th>\n",
       "      <td>536365</td>\n",
       "      <td>85123A</td>\n",
       "      <td>WHITE HANGING HEART T-LIGHT HOLDER</td>\n",
       "      <td>6</td>\n",
       "      <td>12/1/2010 8:26</td>\n",
       "      <td>2.55</td>\n",
       "      <td>17850.0</td>\n",
       "      <td>United Kingdom</td>\n",
       "    </tr>\n",
       "    <tr>\n",
       "      <th>1</th>\n",
       "      <td>536365</td>\n",
       "      <td>71053</td>\n",
       "      <td>WHITE METAL LANTERN</td>\n",
       "      <td>6</td>\n",
       "      <td>12/1/2010 8:26</td>\n",
       "      <td>3.39</td>\n",
       "      <td>17850.0</td>\n",
       "      <td>United Kingdom</td>\n",
       "    </tr>\n",
       "    <tr>\n",
       "      <th>2</th>\n",
       "      <td>536365</td>\n",
       "      <td>84406B</td>\n",
       "      <td>CREAM CUPID HEARTS COAT HANGER</td>\n",
       "      <td>8</td>\n",
       "      <td>12/1/2010 8:26</td>\n",
       "      <td>2.75</td>\n",
       "      <td>17850.0</td>\n",
       "      <td>United Kingdom</td>\n",
       "    </tr>\n",
       "    <tr>\n",
       "      <th>3</th>\n",
       "      <td>536365</td>\n",
       "      <td>84029G</td>\n",
       "      <td>KNITTED UNION FLAG HOT WATER BOTTLE</td>\n",
       "      <td>6</td>\n",
       "      <td>12/1/2010 8:26</td>\n",
       "      <td>3.39</td>\n",
       "      <td>17850.0</td>\n",
       "      <td>United Kingdom</td>\n",
       "    </tr>\n",
       "    <tr>\n",
       "      <th>4</th>\n",
       "      <td>536365</td>\n",
       "      <td>84029E</td>\n",
       "      <td>RED WOOLLY HOTTIE WHITE HEART.</td>\n",
       "      <td>6</td>\n",
       "      <td>12/1/2010 8:26</td>\n",
       "      <td>3.39</td>\n",
       "      <td>17850.0</td>\n",
       "      <td>United Kingdom</td>\n",
       "    </tr>\n",
       "  </tbody>\n",
       "</table>\n",
       "</div>"
      ],
      "text/plain": [
       "  InvoiceNo StockCode                          Description  Quantity  \\\n",
       "0    536365    85123A   WHITE HANGING HEART T-LIGHT HOLDER         6   \n",
       "1    536365     71053                  WHITE METAL LANTERN         6   \n",
       "2    536365    84406B       CREAM CUPID HEARTS COAT HANGER         8   \n",
       "3    536365    84029G  KNITTED UNION FLAG HOT WATER BOTTLE         6   \n",
       "4    536365    84029E       RED WOOLLY HOTTIE WHITE HEART.         6   \n",
       "\n",
       "      InvoiceDate  UnitPrice  CustomerID         Country  \n",
       "0  12/1/2010 8:26       2.55     17850.0  United Kingdom  \n",
       "1  12/1/2010 8:26       3.39     17850.0  United Kingdom  \n",
       "2  12/1/2010 8:26       2.75     17850.0  United Kingdom  \n",
       "3  12/1/2010 8:26       3.39     17850.0  United Kingdom  \n",
       "4  12/1/2010 8:26       3.39     17850.0  United Kingdom  "
      ]
     },
     "execution_count": 3,
     "metadata": {},
     "output_type": "execute_result"
    }
   ],
   "source": [
    "data.head()"
   ]
  },
  {
   "cell_type": "markdown",
   "id": "32dcf0a5-4179-44a2-a782-81595b102bcf",
   "metadata": {},
   "source": [
    "## 2. Cleaning the data"
   ]
  },
  {
   "cell_type": "markdown",
   "id": "e24e9958-37ae-4f73-97f4-23617e0f6394",
   "metadata": {},
   "source": [
    "We need all product description. First, we are going to remove descriptions that are no products using StockCode variable."
   ]
  },
  {
   "cell_type": "code",
   "execution_count": 18,
   "id": "c8358451-804e-4f9d-994e-b3b4cdedd829",
   "metadata": {},
   "outputs": [],
   "source": [
    "are_product = data['StockCode'].apply(lambda code: code[0].isnumeric())\n",
    "df = data[are_product]['Description']"
   ]
  },
  {
   "cell_type": "code",
   "execution_count": 19,
   "id": "cb7416ec-89df-45b4-9d72-09cf86186ba8",
   "metadata": {},
   "outputs": [
    {
     "data": {
      "text/plain": [
       "(538914,)"
      ]
     },
     "execution_count": 19,
     "metadata": {},
     "output_type": "execute_result"
    }
   ],
   "source": [
    "df.shape"
   ]
  },
  {
   "cell_type": "markdown",
   "id": "1a729c48-d8f7-47fa-98e3-502743d8ddc7",
   "metadata": {},
   "source": [
    "Now, we need to get rid of missing values in Description column, because is the feature we use to create the counts matrix.\n",
    "\\\n",
    "Also we will drop duplicates."
   ]
  },
  {
   "cell_type": "code",
   "execution_count": 20,
   "id": "24e50f30-e5e9-4f2e-b9f1-b0d8360c38a7",
   "metadata": {},
   "outputs": [
    {
     "data": {
      "text/plain": [
       "1439"
      ]
     },
     "execution_count": 20,
     "metadata": {},
     "output_type": "execute_result"
    }
   ],
   "source": [
    "df.isna().sum()"
   ]
  },
  {
   "cell_type": "code",
   "execution_count": 21,
   "id": "836aaebf-a177-48cd-bb34-c69e6002eea2",
   "metadata": {},
   "outputs": [],
   "source": [
    "df = df.dropna().drop_duplicates()"
   ]
  },
  {
   "cell_type": "code",
   "execution_count": 22,
   "id": "547ab344-d1f0-4a28-a06e-7ae5c8364d3e",
   "metadata": {},
   "outputs": [
    {
     "data": {
      "text/plain": [
       "0"
      ]
     },
     "execution_count": 22,
     "metadata": {},
     "output_type": "execute_result"
    }
   ],
   "source": [
    "df.isna().sum()"
   ]
  },
  {
   "cell_type": "code",
   "execution_count": 23,
   "id": "ad365734-edce-4f40-a129-0f85742cd5fd",
   "metadata": {},
   "outputs": [
    {
     "data": {
      "text/plain": [
       "(4198,)"
      ]
     },
     "execution_count": 23,
     "metadata": {},
     "output_type": "execute_result"
    }
   ],
   "source": [
    "df.shape"
   ]
  },
  {
   "cell_type": "code",
   "execution_count": 25,
   "id": "ed3acec2-d30f-4441-a463-a7706e96fadc",
   "metadata": {},
   "outputs": [
    {
     "data": {
      "text/plain": [
       "0     WHITE HANGING HEART T-LIGHT HOLDER\n",
       "1                    WHITE METAL LANTERN\n",
       "2         CREAM CUPID HEARTS COAT HANGER\n",
       "3    KNITTED UNION FLAG HOT WATER BOTTLE\n",
       "4         RED WOOLLY HOTTIE WHITE HEART.\n",
       "Name: Description, dtype: object"
      ]
     },
     "execution_count": 25,
     "metadata": {},
     "output_type": "execute_result"
    }
   ],
   "source": [
    "df.head()"
   ]
  },
  {
   "cell_type": "markdown",
   "id": "548f5366-478c-4f2f-bf55-8e7c1fc3c278",
   "metadata": {},
   "source": [
    "## 3. Extracting product names from descriptions"
   ]
  },
  {
   "cell_type": "markdown",
   "id": "73e51f6a-3bfb-401c-8ddd-be172af6e8f4",
   "metadata": {},
   "source": [
    "Now we will extract nouns from product descriptions using NLTK module for pos tagging, stemming and tokenizing words."
   ]
  },
  {
   "cell_type": "code",
   "execution_count": 91,
   "id": "102f7001-1f19-41b8-ad0b-d84e7405d4bb",
   "metadata": {},
   "outputs": [
    {
     "data": {
      "text/plain": [
       "2897           WOVEN BERRIES CUSHION COVER \n",
       "30788    WHITE DOVE HONEYCOMB PAPER GARLAND\n",
       "15618        SET/6 EAU DE NIL BIRD T-LIGHTS\n",
       "1419                  DOCTOR'S BAG SOFT TOY\n",
       "43147          BLACK BAROQUE CARRIAGE CLOCK\n",
       "Name: Description, dtype: object"
      ]
     },
     "execution_count": 91,
     "metadata": {},
     "output_type": "execute_result"
    }
   ],
   "source": [
    "sample = df.sample(5)\n",
    "sample"
   ]
  },
  {
   "cell_type": "code",
   "execution_count": 92,
   "id": "bc9a1508-a4be-4baf-a6a0-97f4efc51af7",
   "metadata": {},
   "outputs": [
    {
     "data": {
      "text/plain": [
       "['woven', 'berries', 'cushion', 'cover', '.', 'white', 'dove']"
      ]
     },
     "execution_count": 92,
     "metadata": {},
     "output_type": "execute_result"
    }
   ],
   "source": [
    "sample_string = '. '.join(sample.values).lower()\n",
    "tokens = nltk.word_tokenize(sample_string)\n",
    "tokens[:7]"
   ]
  },
  {
   "cell_type": "code",
   "execution_count": 99,
   "id": "434ec41a-4191-44a6-aa56-b799c50ceb7b",
   "metadata": {},
   "outputs": [
    {
     "data": {
      "text/plain": [
       "[('woven', 'JJ'),\n",
       " ('berries', 'NNS'),\n",
       " ('cushion', 'NN'),\n",
       " ('cover', 'NN'),\n",
       " ('.', '.'),\n",
       " ('white', 'JJ'),\n",
       " ('dove', 'NN'),\n",
       " ('honeycomb', 'NN'),\n",
       " ('paper', 'NN'),\n",
       " ('garland', 'NN'),\n",
       " ('.', '.'),\n",
       " ('set/6', 'JJ'),\n",
       " ('eau', 'NN'),\n",
       " ('de', 'IN'),\n",
       " ('nil', 'JJ'),\n",
       " ('bird', 'JJ'),\n",
       " ('t-lights', 'NNS'),\n",
       " ('.', '.'),\n",
       " ('doctor', 'NN'),\n",
       " (\"'s\", 'POS'),\n",
       " ('bag', 'NN'),\n",
       " ('soft', 'JJ'),\n",
       " ('toy', 'NN'),\n",
       " ('.', '.'),\n",
       " ('black', 'JJ'),\n",
       " ('baroque', 'NN'),\n",
       " ('carriage', 'NN'),\n",
       " ('clock', 'NN')]"
      ]
     },
     "execution_count": 99,
     "metadata": {},
     "output_type": "execute_result"
    }
   ],
   "source": [
    "sentence = 'WHITE HANGING HEART T-LIGHT HOLDER'.lower().split()\n",
    "tagger = nltk.pos_tag(tokens)\n",
    "tagger"
   ]
  },
  {
   "cell_type": "code",
   "execution_count": 104,
   "id": "b3b51e3d-5518-43eb-afb8-3045dacf787a",
   "metadata": {},
   "outputs": [
    {
     "data": {
      "text/plain": [
       "['woven',\n",
       " 'berries',\n",
       " 'cushion',\n",
       " 'cover',\n",
       " '.',\n",
       " 'white',\n",
       " 'dove',\n",
       " 'honeycomb',\n",
       " 'paper',\n",
       " 'garland',\n",
       " '.',\n",
       " 'set/6',\n",
       " 'eau',\n",
       " 'de',\n",
       " 'nil',\n",
       " 'bird',\n",
       " 't-lights',\n",
       " '.',\n",
       " 'doctor',\n",
       " \"'s\",\n",
       " 'bag',\n",
       " 'soft',\n",
       " 'toy',\n",
       " '.',\n",
       " 'black',\n",
       " 'baroque',\n",
       " 'carriage',\n",
       " 'clock']"
      ]
     },
     "execution_count": 104,
     "metadata": {},
     "output_type": "execute_result"
    }
   ],
   "source": [
    "tokens"
   ]
  },
  {
   "cell_type": "code",
   "execution_count": null,
   "id": "ba116f2e-6681-4a75-a77e-e19f93b89c12",
   "metadata": {},
   "outputs": [],
   "source": [
    "\"\"\"\n",
    "keywords (dict):    \n",
    "    key:      \n",
    "        nouns from descriptions\n",
    "\n",
    "    values: \n",
    "        count: noun freq in the data\n",
    "        words: list of words associated with the noun\n",
    "\"\"\"\n",
    "keywords = {} \n",
    "\n",
    "def update_counter(pos_tags):\n",
    "    \"\"\" \n",
    "        Process POS tagged words list to get product \n",
    "        names and counts and update keywords dict \n",
    "    \"\"\"\n",
    "    stemmer = nltk.stem.snowball.SnowballStemmer('english')\n",
    "    \n",
    "    for word, tag in pos_tags:\n",
    "        \n",
    "    "
   ]
  },
  {
   "cell_type": "code",
   "execution_count": 120,
   "id": "f1a222e8-be04-412e-8fc1-7deaaaf1d5e6",
   "metadata": {},
   "outputs": [
    {
     "data": {
      "text/plain": [
       "[[('woven', 'JJ'), ('berries', 'NNS'), ('cushion', 'NN'), ('cover', 'NN')],\n",
       " [('white', 'JJ'),\n",
       "  ('dove', 'NN'),\n",
       "  ('honeycomb', 'NN'),\n",
       "  ('paper', 'NN'),\n",
       "  ('garland', 'NN')],\n",
       " [('set/6', 'JJ'),\n",
       "  ('eau', 'NN'),\n",
       "  ('de', 'IN'),\n",
       "  ('nil', 'JJ'),\n",
       "  ('bird', 'NN'),\n",
       "  ('t-lights', 'NNS')],\n",
       " [('doctor', 'NN'),\n",
       "  (\"'s\", 'POS'),\n",
       "  ('bag', 'NN'),\n",
       "  ('soft', 'JJ'),\n",
       "  ('toy', 'NN')],\n",
       " [('black', 'JJ'), ('baroque', 'NN'), ('carriage', 'NN'), ('clock', 'NN')]]"
      ]
     },
     "execution_count": 120,
     "metadata": {},
     "output_type": "execute_result"
    }
   ],
   "source": [
    "sample.str.lower().apply(nltk.word_tokenize).apply(nltk.pos_tag).apply(update_counter)"
   ]
  }
 ],
 "metadata": {
  "kernelspec": {
   "display_name": "Python 3",
   "language": "python",
   "name": "python3"
  },
  "language_info": {
   "codemirror_mode": {
    "name": "ipython",
    "version": 3
   },
   "file_extension": ".py",
   "mimetype": "text/x-python",
   "name": "python",
   "nbconvert_exporter": "python",
   "pygments_lexer": "ipython3",
   "version": "3.9.4"
  }
 },
 "nbformat": 4,
 "nbformat_minor": 5
}
