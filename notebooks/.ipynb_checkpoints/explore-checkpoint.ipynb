{
 "cells": [
  {
   "cell_type": "markdown",
   "id": "00ff7d44-acf3-4449-a00f-28ecc869f00c",
   "metadata": {},
   "source": [
    "# Exploratoty Data Analysis"
   ]
  },
  {
   "cell_type": "code",
   "execution_count": 217,
   "id": "2da48d31-1034-42ad-9979-29f33fd08256",
   "metadata": {},
   "outputs": [],
   "source": [
    "import pandas as pd\n",
    "import numpy as np\n",
    "import matplotlib.pyplot as plt\n",
    "import seaborn as sns\n",
    "\n",
    "\n",
    "import nltk"
   ]
  },
  {
   "cell_type": "code",
   "execution_count": 202,
   "id": "09c11a0e-5c95-441f-b599-e7c15ad508d9",
   "metadata": {},
   "outputs": [],
   "source": [
    "sns.set_palette('deep')\n",
    "\n",
    "import warnings\n",
    "warnings.filterwarnings('ignore')"
   ]
  },
  {
   "cell_type": "markdown",
   "id": "640e2f3b-17ec-4fe9-a152-7dfed16026ea",
   "metadata": {},
   "source": [
    "## 1. Load the data"
   ]
  },
  {
   "cell_type": "code",
   "execution_count": null,
   "id": "dd31a9af-1be7-46be-8067-0affe05c4ac3",
   "metadata": {},
   "outputs": [],
   "source": [
    "df = pd.read_csv('../data/data.csv')\n",
    "df.shape"
   ]
  },
  {
   "cell_type": "code",
   "execution_count": 5,
   "id": "71574ce9-4a97-441c-9cbf-1edbeaaaf342",
   "metadata": {},
   "outputs": [
    {
     "data": {
      "text/html": [
       "<div>\n",
       "<style scoped>\n",
       "    .dataframe tbody tr th:only-of-type {\n",
       "        vertical-align: middle;\n",
       "    }\n",
       "\n",
       "    .dataframe tbody tr th {\n",
       "        vertical-align: top;\n",
       "    }\n",
       "\n",
       "    .dataframe thead th {\n",
       "        text-align: right;\n",
       "    }\n",
       "</style>\n",
       "<table border=\"1\" class=\"dataframe\">\n",
       "  <thead>\n",
       "    <tr style=\"text-align: right;\">\n",
       "      <th></th>\n",
       "      <th>InvoiceNo</th>\n",
       "      <th>StockCode</th>\n",
       "      <th>Description</th>\n",
       "      <th>Quantity</th>\n",
       "      <th>InvoiceDate</th>\n",
       "      <th>UnitPrice</th>\n",
       "      <th>CustomerID</th>\n",
       "      <th>Country</th>\n",
       "    </tr>\n",
       "  </thead>\n",
       "  <tbody>\n",
       "    <tr>\n",
       "      <th>0</th>\n",
       "      <td>536365</td>\n",
       "      <td>85123A</td>\n",
       "      <td>WHITE HANGING HEART T-LIGHT HOLDER</td>\n",
       "      <td>6</td>\n",
       "      <td>12/1/2010 8:26</td>\n",
       "      <td>2.55</td>\n",
       "      <td>17850.0</td>\n",
       "      <td>United Kingdom</td>\n",
       "    </tr>\n",
       "    <tr>\n",
       "      <th>1</th>\n",
       "      <td>536365</td>\n",
       "      <td>71053</td>\n",
       "      <td>WHITE METAL LANTERN</td>\n",
       "      <td>6</td>\n",
       "      <td>12/1/2010 8:26</td>\n",
       "      <td>3.39</td>\n",
       "      <td>17850.0</td>\n",
       "      <td>United Kingdom</td>\n",
       "    </tr>\n",
       "    <tr>\n",
       "      <th>2</th>\n",
       "      <td>536365</td>\n",
       "      <td>84406B</td>\n",
       "      <td>CREAM CUPID HEARTS COAT HANGER</td>\n",
       "      <td>8</td>\n",
       "      <td>12/1/2010 8:26</td>\n",
       "      <td>2.75</td>\n",
       "      <td>17850.0</td>\n",
       "      <td>United Kingdom</td>\n",
       "    </tr>\n",
       "    <tr>\n",
       "      <th>3</th>\n",
       "      <td>536365</td>\n",
       "      <td>84029G</td>\n",
       "      <td>KNITTED UNION FLAG HOT WATER BOTTLE</td>\n",
       "      <td>6</td>\n",
       "      <td>12/1/2010 8:26</td>\n",
       "      <td>3.39</td>\n",
       "      <td>17850.0</td>\n",
       "      <td>United Kingdom</td>\n",
       "    </tr>\n",
       "    <tr>\n",
       "      <th>4</th>\n",
       "      <td>536365</td>\n",
       "      <td>84029E</td>\n",
       "      <td>RED WOOLLY HOTTIE WHITE HEART.</td>\n",
       "      <td>6</td>\n",
       "      <td>12/1/2010 8:26</td>\n",
       "      <td>3.39</td>\n",
       "      <td>17850.0</td>\n",
       "      <td>United Kingdom</td>\n",
       "    </tr>\n",
       "  </tbody>\n",
       "</table>\n",
       "</div>"
      ],
      "text/plain": [
       "  InvoiceNo StockCode                          Description  Quantity  \\\n",
       "0    536365    85123A   WHITE HANGING HEART T-LIGHT HOLDER         6   \n",
       "1    536365     71053                  WHITE METAL LANTERN         6   \n",
       "2    536365    84406B       CREAM CUPID HEARTS COAT HANGER         8   \n",
       "3    536365    84029G  KNITTED UNION FLAG HOT WATER BOTTLE         6   \n",
       "4    536365    84029E       RED WOOLLY HOTTIE WHITE HEART.         6   \n",
       "\n",
       "      InvoiceDate  UnitPrice  CustomerID         Country  \n",
       "0  12/1/2010 8:26       2.55     17850.0  United Kingdom  \n",
       "1  12/1/2010 8:26       3.39     17850.0  United Kingdom  \n",
       "2  12/1/2010 8:26       2.75     17850.0  United Kingdom  \n",
       "3  12/1/2010 8:26       3.39     17850.0  United Kingdom  \n",
       "4  12/1/2010 8:26       3.39     17850.0  United Kingdom  "
      ]
     },
     "execution_count": 5,
     "metadata": {},
     "output_type": "execute_result"
    }
   ],
   "source": [
    "df.head()"
   ]
  },
  {
   "cell_type": "markdown",
   "id": "9b062120-eb9c-4f9d-b825-2cd134f63ced",
   "metadata": {},
   "source": [
    "## 2. Features"
   ]
  },
  {
   "cell_type": "code",
   "execution_count": 14,
   "id": "24b0b045-7b21-4f72-9091-6d5bc660acbf",
   "metadata": {},
   "outputs": [
    {
     "name": "stdout",
     "output_type": "stream",
     "text": [
      "<class 'pandas.core.frame.DataFrame'>\n",
      "RangeIndex: 541909 entries, 0 to 541908\n",
      "Data columns (total 8 columns):\n",
      " #   Column       Non-Null Count   Dtype  \n",
      "---  ------       --------------   -----  \n",
      " 0   InvoiceNo    541909 non-null  object \n",
      " 1   StockCode    541909 non-null  object \n",
      " 2   Description  540455 non-null  object \n",
      " 3   Quantity     541909 non-null  int64  \n",
      " 4   InvoiceDate  541909 non-null  object \n",
      " 5   UnitPrice    541909 non-null  float64\n",
      " 6   CustomerID   406829 non-null  float64\n",
      " 7   Country      541909 non-null  object \n",
      "dtypes: float64(2), int64(1), object(5)\n",
      "memory usage: 33.1+ MB\n"
     ]
    }
   ],
   "source": [
    "df.info()"
   ]
  },
  {
   "cell_type": "markdown",
   "id": "c82650d5-178f-4903-adcb-7ae0f128b037",
   "metadata": {},
   "source": [
    "**InvoiceNo**: Invoice number. Nominal, a 6-digit integral number uniquely assigned to each transaction. If this code starts with letter 'c', it indicates a cancellation.\n",
    "\\\n",
    "**StockCode**: Product (item) code. Nominal, a 5-digit integral number uniquely assigned to each distinct product.\n",
    "\\\n",
    "**Description**: Product (item) name. Nominal.\n",
    "\\\n",
    "**Quantity**: The quantities of each product (item) per transaction. Numeric.\n",
    "\\\n",
    "**InvoiceDate**: Invice Date and time. Numeric, the day and time when each transaction was generated.\n",
    "\\\n",
    "**UnitPrice**: Unit price. Numeric, Product price per unit in sterling.\n",
    "\\\n",
    "**CustomerID**: Customer number. Nominal, a 5-digit integral number uniquely assigned to each customer.\n",
    "\\\n",
    "**Country**: Country name. Nominal, the name of the country where each customer resides."
   ]
  },
  {
   "cell_type": "markdown",
   "id": "d29c4d64-b523-41e0-8afa-5437b06fa9c4",
   "metadata": {},
   "source": [
    "### 2.1 CustomerID"
   ]
  },
  {
   "cell_type": "code",
   "execution_count": 13,
   "id": "c9578ad7-1098-4833-99e9-96aa4c53a3be",
   "metadata": {},
   "outputs": [
    {
     "data": {
      "text/plain": [
       "InvoiceNo     25900\n",
       "CustomerID     4372\n",
       "StockCode      4070\n",
       "dtype: int64"
      ]
     },
     "execution_count": 13,
     "metadata": {},
     "output_type": "execute_result"
    }
   ],
   "source": [
    "df[['InvoiceNo', 'CustomerID', 'StockCode']].nunique()"
   ]
  },
  {
   "cell_type": "markdown",
   "id": "2586a138-9e9e-4251-a4f8-fafbc28ee92e",
   "metadata": {},
   "source": [
    "* We have 4372 customers, 4070 products in the 25900 purchases"
   ]
  },
  {
   "cell_type": "code",
   "execution_count": 65,
   "id": "b05edd1b-d018-4294-a17a-5da254f7e6a2",
   "metadata": {},
   "outputs": [
    {
     "data": {
      "text/plain": [
       "count    4372.000000\n",
       "mean       61.211116\n",
       "std        85.425119\n",
       "min         1.000000\n",
       "25%        15.000000\n",
       "50%        35.000000\n",
       "75%        77.000000\n",
       "max      1794.000000\n",
       "Name: StockCode, dtype: float64"
      ]
     },
     "execution_count": 65,
     "metadata": {},
     "output_type": "execute_result"
    }
   ],
   "source": [
    "df.groupby(['CustomerID'])['StockCode'].nunique().describe()"
   ]
  },
  {
   "cell_type": "markdown",
   "id": "70f4699c-b0ee-4022-b30c-b6d5a4c4ddd1",
   "metadata": {},
   "source": [
    "* Each customer buys an average of 61 different products\n",
    "* There a customers that buy just one product\n",
    "* There a customer that buyed 1794 products"
   ]
  },
  {
   "cell_type": "markdown",
   "id": "2b57891f-d006-4815-9ef7-dafee51124ae",
   "metadata": {},
   "source": [
    "### 2.2 Country"
   ]
  },
  {
   "cell_type": "code",
   "execution_count": 15,
   "id": "18e79f3f-102d-4220-aaee-a1f77c91a899",
   "metadata": {},
   "outputs": [
    {
     "data": {
      "text/plain": [
       "38"
      ]
     },
     "execution_count": 15,
     "metadata": {},
     "output_type": "execute_result"
    }
   ],
   "source": [
    "df['Country'].nunique()"
   ]
  },
  {
   "cell_type": "code",
   "execution_count": 38,
   "id": "53635866-d9dc-4e25-97f6-53f4698e5ea7",
   "metadata": {},
   "outputs": [
    {
     "data": {
      "image/png": "[encoded data removed]",
      "text/plain": [
       "<Figure size 432x288 with 1 Axes>"
      ]
     },
     "metadata": {
      "needs_background": "light"
     },
     "output_type": "display_data"
    }
   ],
   "source": [
    "top10 = df['Country'].value_counts(ascending=False)[:10].reset_index()\n",
    "sns.barplot(x='Country', y='index', data=top10);\n",
    "sns.despine()\n",
    "plt.xlabel('Number of Transactions')\n",
    "plt.ylabel('');\n",
    "plt.title('Top 10 Countries');"
   ]
  },
  {
   "cell_type": "markdown",
   "id": "9b364408-eb61-4951-9668-c2cb5ae98c4f",
   "metadata": {},
   "source": [
    "* The vast majority of transactions come from the United Kingdom."
   ]
  },
  {
   "cell_type": "markdown",
   "id": "a618101f-e565-4f44-86f9-7f5700438158",
   "metadata": {},
   "source": [
    "### 2.3 Cancelled transactions"
   ]
  },
  {
   "cell_type": "markdown",
   "id": "55a7ead3-7d62-48a5-9d4d-1533dabc89ca",
   "metadata": {},
   "source": [
    "InvoiceNo starting with a 'C' means that order was cancelled."
   ]
  },
  {
   "cell_type": "code",
   "execution_count": 39,
   "id": "3ab1ab18-a78a-4480-beec-ee9b61908703",
   "metadata": {},
   "outputs": [],
   "source": [
    "df['cancelled'] = df['InvoiceNo'].str.startswith('C')"
   ]
  },
  {
   "cell_type": "code",
   "execution_count": 108,
   "id": "dd63994c-ebe9-4e23-9ca0-d76b00100ff3",
   "metadata": {},
   "outputs": [],
   "source": [
    "n_cancelled = df[df['cancelled'] == True]['InvoiceNo'].nunique()\n",
    "n_invoiceNo = df['InvoiceNo'].nunique()\n",
    "per = (n_cancelled/n_invoiceNo*100)"
   ]
  },
  {
   "cell_type": "code",
   "execution_count": 109,
   "id": "4c6bd944-57dc-4af3-a2a7-15991fc290c1",
   "metadata": {},
   "outputs": [
    {
     "name": "stdout",
     "output_type": "stream",
     "text": [
      "Number of orders cancelled: 3836/25900 (14.81%)\n"
     ]
    }
   ],
   "source": [
    "print(f'Number of orders cancelled: {n_cancelled}/{n_invoiceNo} ({per:.2f}%)')"
   ]
  },
  {
   "cell_type": "code",
   "execution_count": 111,
   "id": "d7ebd77b-a1f1-489b-98ae-e29d73d55932",
   "metadata": {},
   "outputs": [
    {
     "data": {
      "text/html": [
       "<div>\n",
       "<style scoped>\n",
       "    .dataframe tbody tr th:only-of-type {\n",
       "        vertical-align: middle;\n",
       "    }\n",
       "\n",
       "    .dataframe tbody tr th {\n",
       "        vertical-align: top;\n",
       "    }\n",
       "\n",
       "    .dataframe thead th {\n",
       "        text-align: right;\n",
       "    }\n",
       "</style>\n",
       "<table border=\"1\" class=\"dataframe\">\n",
       "  <thead>\n",
       "    <tr style=\"text-align: right;\">\n",
       "      <th></th>\n",
       "      <th>InvoiceNo</th>\n",
       "      <th>StockCode</th>\n",
       "      <th>Description</th>\n",
       "      <th>Quantity</th>\n",
       "      <th>InvoiceDate</th>\n",
       "      <th>UnitPrice</th>\n",
       "      <th>CustomerID</th>\n",
       "      <th>Country</th>\n",
       "      <th>cancelled</th>\n",
       "    </tr>\n",
       "  </thead>\n",
       "  <tbody>\n",
       "    <tr>\n",
       "      <th>141</th>\n",
       "      <td>C536379</td>\n",
       "      <td>D</td>\n",
       "      <td>Discount</td>\n",
       "      <td>-1</td>\n",
       "      <td>12/1/2010 9:41</td>\n",
       "      <td>27.50</td>\n",
       "      <td>14527.0</td>\n",
       "      <td>United Kingdom</td>\n",
       "      <td>True</td>\n",
       "    </tr>\n",
       "    <tr>\n",
       "      <th>154</th>\n",
       "      <td>C536383</td>\n",
       "      <td>35004C</td>\n",
       "      <td>SET OF 3 COLOURED  FLYING DUCKS</td>\n",
       "      <td>-1</td>\n",
       "      <td>12/1/2010 9:49</td>\n",
       "      <td>4.65</td>\n",
       "      <td>15311.0</td>\n",
       "      <td>United Kingdom</td>\n",
       "      <td>True</td>\n",
       "    </tr>\n",
       "    <tr>\n",
       "      <th>235</th>\n",
       "      <td>C536391</td>\n",
       "      <td>22556</td>\n",
       "      <td>PLASTERS IN TIN CIRCUS PARADE</td>\n",
       "      <td>-12</td>\n",
       "      <td>12/1/2010 10:24</td>\n",
       "      <td>1.65</td>\n",
       "      <td>17548.0</td>\n",
       "      <td>United Kingdom</td>\n",
       "      <td>True</td>\n",
       "    </tr>\n",
       "    <tr>\n",
       "      <th>236</th>\n",
       "      <td>C536391</td>\n",
       "      <td>21984</td>\n",
       "      <td>PACK OF 12 PINK PAISLEY TISSUES</td>\n",
       "      <td>-24</td>\n",
       "      <td>12/1/2010 10:24</td>\n",
       "      <td>0.29</td>\n",
       "      <td>17548.0</td>\n",
       "      <td>United Kingdom</td>\n",
       "      <td>True</td>\n",
       "    </tr>\n",
       "    <tr>\n",
       "      <th>237</th>\n",
       "      <td>C536391</td>\n",
       "      <td>21983</td>\n",
       "      <td>PACK OF 12 BLUE PAISLEY TISSUES</td>\n",
       "      <td>-24</td>\n",
       "      <td>12/1/2010 10:24</td>\n",
       "      <td>0.29</td>\n",
       "      <td>17548.0</td>\n",
       "      <td>United Kingdom</td>\n",
       "      <td>True</td>\n",
       "    </tr>\n",
       "  </tbody>\n",
       "</table>\n",
       "</div>"
      ],
      "text/plain": [
       "    InvoiceNo StockCode                       Description  Quantity  \\\n",
       "141   C536379         D                          Discount        -1   \n",
       "154   C536383    35004C   SET OF 3 COLOURED  FLYING DUCKS        -1   \n",
       "235   C536391     22556    PLASTERS IN TIN CIRCUS PARADE        -12   \n",
       "236   C536391     21984  PACK OF 12 PINK PAISLEY TISSUES        -24   \n",
       "237   C536391     21983  PACK OF 12 BLUE PAISLEY TISSUES        -24   \n",
       "\n",
       "         InvoiceDate  UnitPrice  CustomerID         Country  cancelled  \n",
       "141   12/1/2010 9:41      27.50     14527.0  United Kingdom       True  \n",
       "154   12/1/2010 9:49       4.65     15311.0  United Kingdom       True  \n",
       "235  12/1/2010 10:24       1.65     17548.0  United Kingdom       True  \n",
       "236  12/1/2010 10:24       0.29     17548.0  United Kingdom       True  \n",
       "237  12/1/2010 10:24       0.29     17548.0  United Kingdom       True  "
      ]
     },
     "execution_count": 111,
     "metadata": {},
     "output_type": "execute_result"
    }
   ],
   "source": [
    "df[df['cancelled'] == True].head(5)"
   ]
  },
  {
   "cell_type": "markdown",
   "id": "c9147c1e-11ca-49c5-9ddb-9c6c30868600",
   "metadata": {},
   "source": [
    "* Cancelled transactions have negative quantity values"
   ]
  },
  {
   "cell_type": "markdown",
   "id": "ce28c892-786c-4183-af42-bfc6ce158539",
   "metadata": {},
   "source": [
    "Let's check if the cancelled orders have the transaction that was originally created associated with them."
   ]
  },
  {
   "cell_type": "code",
   "execution_count": 119,
   "id": "727b90f1-5259-4245-81e7-d590a02442d9",
   "metadata": {},
   "outputs": [
    {
     "data": {
      "text/html": [
       "<div>\n",
       "<style scoped>\n",
       "    .dataframe tbody tr th:only-of-type {\n",
       "        vertical-align: middle;\n",
       "    }\n",
       "\n",
       "    .dataframe tbody tr th {\n",
       "        vertical-align: top;\n",
       "    }\n",
       "\n",
       "    .dataframe thead th {\n",
       "        text-align: right;\n",
       "    }\n",
       "</style>\n",
       "<table border=\"1\" class=\"dataframe\">\n",
       "  <thead>\n",
       "    <tr style=\"text-align: right;\">\n",
       "      <th></th>\n",
       "      <th>InvoiceNo</th>\n",
       "      <th>StockCode</th>\n",
       "      <th>Description</th>\n",
       "      <th>Quantity</th>\n",
       "      <th>InvoiceDate</th>\n",
       "      <th>UnitPrice</th>\n",
       "      <th>CustomerID</th>\n",
       "      <th>Country</th>\n",
       "      <th>cancelled</th>\n",
       "    </tr>\n",
       "  </thead>\n",
       "  <tbody>\n",
       "    <tr>\n",
       "      <th>154</th>\n",
       "      <td>C536383</td>\n",
       "      <td>35004C</td>\n",
       "      <td>SET OF 3 COLOURED  FLYING DUCKS</td>\n",
       "      <td>-1</td>\n",
       "      <td>12/1/2010 9:49</td>\n",
       "      <td>4.65</td>\n",
       "      <td>15311.0</td>\n",
       "      <td>United Kingdom</td>\n",
       "      <td>True</td>\n",
       "    </tr>\n",
       "  </tbody>\n",
       "</table>\n",
       "</div>"
      ],
      "text/plain": [
       "    InvoiceNo StockCode                      Description  Quantity  \\\n",
       "154   C536383    35004C  SET OF 3 COLOURED  FLYING DUCKS        -1   \n",
       "\n",
       "        InvoiceDate  UnitPrice  CustomerID         Country  cancelled  \n",
       "154  12/1/2010 9:49       4.65     15311.0  United Kingdom       True  "
      ]
     },
     "execution_count": 119,
     "metadata": {},
     "output_type": "execute_result"
    }
   ],
   "source": [
    "df[df['InvoiceNo'] == 'C536383']"
   ]
  },
  {
   "cell_type": "code",
   "execution_count": 122,
   "id": "8ac4f763-40dd-4f9b-bbae-1b079b23a1c5",
   "metadata": {},
   "outputs": [
    {
     "data": {
      "text/html": [
       "<div>\n",
       "<style scoped>\n",
       "    .dataframe tbody tr th:only-of-type {\n",
       "        vertical-align: middle;\n",
       "    }\n",
       "\n",
       "    .dataframe tbody tr th {\n",
       "        vertical-align: top;\n",
       "    }\n",
       "\n",
       "    .dataframe thead th {\n",
       "        text-align: right;\n",
       "    }\n",
       "</style>\n",
       "<table border=\"1\" class=\"dataframe\">\n",
       "  <thead>\n",
       "    <tr style=\"text-align: right;\">\n",
       "      <th></th>\n",
       "      <th>InvoiceNo</th>\n",
       "      <th>StockCode</th>\n",
       "      <th>Description</th>\n",
       "      <th>Quantity</th>\n",
       "      <th>InvoiceDate</th>\n",
       "      <th>UnitPrice</th>\n",
       "      <th>CustomerID</th>\n",
       "      <th>Country</th>\n",
       "      <th>cancelled</th>\n",
       "    </tr>\n",
       "  </thead>\n",
       "  <tbody>\n",
       "    <tr>\n",
       "      <th>154</th>\n",
       "      <td>C536383</td>\n",
       "      <td>35004C</td>\n",
       "      <td>SET OF 3 COLOURED  FLYING DUCKS</td>\n",
       "      <td>-1</td>\n",
       "      <td>12/1/2010 9:49</td>\n",
       "      <td>4.65</td>\n",
       "      <td>15311.0</td>\n",
       "      <td>United Kingdom</td>\n",
       "      <td>True</td>\n",
       "    </tr>\n",
       "    <tr>\n",
       "      <th>9200</th>\n",
       "      <td>537195</td>\n",
       "      <td>35004C</td>\n",
       "      <td>SET OF 3 COLOURED  FLYING DUCKS</td>\n",
       "      <td>12</td>\n",
       "      <td>12/5/2010 13:55</td>\n",
       "      <td>4.65</td>\n",
       "      <td>15311.0</td>\n",
       "      <td>United Kingdom</td>\n",
       "      <td>False</td>\n",
       "    </tr>\n",
       "    <tr>\n",
       "      <th>18196</th>\n",
       "      <td>C537805</td>\n",
       "      <td>35004C</td>\n",
       "      <td>SET OF 3 COLOURED  FLYING DUCKS</td>\n",
       "      <td>-1</td>\n",
       "      <td>12/8/2010 13:18</td>\n",
       "      <td>4.65</td>\n",
       "      <td>15311.0</td>\n",
       "      <td>United Kingdom</td>\n",
       "      <td>True</td>\n",
       "    </tr>\n",
       "    <tr>\n",
       "      <th>28630</th>\n",
       "      <td>538651</td>\n",
       "      <td>35004C</td>\n",
       "      <td>SET OF 3 COLOURED  FLYING DUCKS</td>\n",
       "      <td>12</td>\n",
       "      <td>12/13/2010 15:07</td>\n",
       "      <td>4.65</td>\n",
       "      <td>15311.0</td>\n",
       "      <td>United Kingdom</td>\n",
       "      <td>False</td>\n",
       "    </tr>\n",
       "    <tr>\n",
       "      <th>39381</th>\n",
       "      <td>C539640</td>\n",
       "      <td>35004C</td>\n",
       "      <td>SET OF 3 COLOURED  FLYING DUCKS</td>\n",
       "      <td>-3</td>\n",
       "      <td>12/20/2010 15:27</td>\n",
       "      <td>4.65</td>\n",
       "      <td>15311.0</td>\n",
       "      <td>United Kingdom</td>\n",
       "      <td>True</td>\n",
       "    </tr>\n",
       "    <tr>\n",
       "      <th>44157</th>\n",
       "      <td>540157</td>\n",
       "      <td>35004C</td>\n",
       "      <td>SET OF 3 COLOURED  FLYING DUCKS</td>\n",
       "      <td>12</td>\n",
       "      <td>1/5/2011 11:41</td>\n",
       "      <td>4.65</td>\n",
       "      <td>15311.0</td>\n",
       "      <td>United Kingdom</td>\n",
       "      <td>False</td>\n",
       "    </tr>\n",
       "    <tr>\n",
       "      <th>59542</th>\n",
       "      <td>541293</td>\n",
       "      <td>35004C</td>\n",
       "      <td>SET OF 3 COLOURED  FLYING DUCKS</td>\n",
       "      <td>12</td>\n",
       "      <td>1/17/2011 13:39</td>\n",
       "      <td>4.65</td>\n",
       "      <td>15311.0</td>\n",
       "      <td>United Kingdom</td>\n",
       "      <td>False</td>\n",
       "    </tr>\n",
       "    <tr>\n",
       "      <th>78333</th>\n",
       "      <td>C542866</td>\n",
       "      <td>35004C</td>\n",
       "      <td>SET OF 3 COLOURED  FLYING DUCKS</td>\n",
       "      <td>-2</td>\n",
       "      <td>2/1/2011 12:14</td>\n",
       "      <td>4.65</td>\n",
       "      <td>15311.0</td>\n",
       "      <td>United Kingdom</td>\n",
       "      <td>True</td>\n",
       "    </tr>\n",
       "  </tbody>\n",
       "</table>\n",
       "</div>"
      ],
      "text/plain": [
       "      InvoiceNo StockCode                      Description  Quantity  \\\n",
       "154     C536383    35004C  SET OF 3 COLOURED  FLYING DUCKS        -1   \n",
       "9200     537195    35004C  SET OF 3 COLOURED  FLYING DUCKS        12   \n",
       "18196   C537805    35004C  SET OF 3 COLOURED  FLYING DUCKS        -1   \n",
       "28630    538651    35004C  SET OF 3 COLOURED  FLYING DUCKS        12   \n",
       "39381   C539640    35004C  SET OF 3 COLOURED  FLYING DUCKS        -3   \n",
       "44157    540157    35004C  SET OF 3 COLOURED  FLYING DUCKS        12   \n",
       "59542    541293    35004C  SET OF 3 COLOURED  FLYING DUCKS        12   \n",
       "78333   C542866    35004C  SET OF 3 COLOURED  FLYING DUCKS        -2   \n",
       "\n",
       "            InvoiceDate  UnitPrice  CustomerID         Country  cancelled  \n",
       "154      12/1/2010 9:49       4.65     15311.0  United Kingdom       True  \n",
       "9200    12/5/2010 13:55       4.65     15311.0  United Kingdom      False  \n",
       "18196   12/8/2010 13:18       4.65     15311.0  United Kingdom       True  \n",
       "28630  12/13/2010 15:07       4.65     15311.0  United Kingdom      False  \n",
       "39381  12/20/2010 15:27       4.65     15311.0  United Kingdom       True  \n",
       "44157    1/5/2011 11:41       4.65     15311.0  United Kingdom      False  \n",
       "59542   1/17/2011 13:39       4.65     15311.0  United Kingdom      False  \n",
       "78333    2/1/2011 12:14       4.65     15311.0  United Kingdom       True  "
      ]
     },
     "execution_count": 122,
     "metadata": {},
     "output_type": "execute_result"
    }
   ],
   "source": [
    "df[(df['CustomerID'] == 15311) & (df['StockCode'] == '35004C')]"
   ]
  },
  {
   "cell_type": "markdown",
   "id": "b842162c-482f-40ad-9aad-8c2670122fb3",
   "metadata": {},
   "source": [
    "It seems that this is not the case. There is no order prior to the cancelled order we have selected that has the same product but with a positive quantity value."
   ]
  },
  {
   "cell_type": "markdown",
   "id": "146c6031-43cd-4c25-b7a4-504b4c98b7a0",
   "metadata": {},
   "source": [
    "### 2.4 StockCode"
   ]
  },
  {
   "cell_type": "code",
   "execution_count": 133,
   "id": "2cd29b71-daa7-483b-bd6d-290983558545",
   "metadata": {},
   "outputs": [
    {
     "data": {
      "text/plain": [
       "0         85123A\n",
       "1          71053\n",
       "2         84406B\n",
       "3         84029G\n",
       "4         84029E\n",
       "           ...  \n",
       "541904     22613\n",
       "541905     22899\n",
       "541906     23254\n",
       "541907     23255\n",
       "541908     22138\n",
       "Name: StockCode, Length: 541909, dtype: object"
      ]
     },
     "execution_count": 133,
     "metadata": {},
     "output_type": "execute_result"
    }
   ],
   "source": [
    "df['StockCode']"
   ]
  },
  {
   "cell_type": "code",
   "execution_count": 160,
   "id": "5fc62f5b-0eec-4542-a0b7-d2c0b6e6c47d",
   "metadata": {},
   "outputs": [
    {
     "data": {
      "text/plain": [
       "array(['POST', '15056BL', 'D', 'C2', 'DOT', 'M', 'BANK CHARGES',\n",
       "       '15056bl', 'S', 'AMAZONFEE', 'DCGS0076', 'DCGS0003',\n",
       "       'gift_0001_40', 'DCGS0070', 'm', 'gift_0001_50', 'gift_0001_30',\n",
       "       'gift_0001_20', 'DCGS0055', 'DCGS0072', 'DCGS0074', 'DCGS0069',\n",
       "       'DCGS0057', 'DCGSSBOY', 'DCGSSGIRL', 'gift_0001_10', 'PADS',\n",
       "       'DCGS0004', 'DCGS0073', 'DCGS0071', 'DCGS0068', 'DCGS0067',\n",
       "       'DCGS0066P', 'B', 'CRUK', '79323GR', '79323LP'], dtype=object)"
      ]
     },
     "execution_count": 160,
     "metadata": {},
     "output_type": "execute_result"
    }
   ],
   "source": [
    "numeric_codes = df['StockCode'].apply(lambda x: x[:-1].isnumeric())\n",
    "df[~numeric_codes]['StockCode'].unique()"
   ]
  },
  {
   "cell_type": "code",
   "execution_count": 168,
   "id": "ec94c58c-ef63-4693-8fb7-48c3059aa1f2",
   "metadata": {},
   "outputs": [
    {
     "data": {
      "text/html": [
       "<div>\n",
       "<style scoped>\n",
       "    .dataframe tbody tr th:only-of-type {\n",
       "        vertical-align: middle;\n",
       "    }\n",
       "\n",
       "    .dataframe tbody tr th {\n",
       "        vertical-align: top;\n",
       "    }\n",
       "\n",
       "    .dataframe thead th {\n",
       "        text-align: right;\n",
       "    }\n",
       "</style>\n",
       "<table border=\"1\" class=\"dataframe\">\n",
       "  <thead>\n",
       "    <tr style=\"text-align: right;\">\n",
       "      <th></th>\n",
       "      <th>InvoiceNo</th>\n",
       "      <th>StockCode</th>\n",
       "      <th>Description</th>\n",
       "      <th>Quantity</th>\n",
       "      <th>InvoiceDate</th>\n",
       "      <th>UnitPrice</th>\n",
       "      <th>CustomerID</th>\n",
       "      <th>Country</th>\n",
       "      <th>cancelled</th>\n",
       "    </tr>\n",
       "  </thead>\n",
       "  <tbody>\n",
       "    <tr>\n",
       "      <th>45</th>\n",
       "      <td>536370</td>\n",
       "      <td>POST</td>\n",
       "      <td>POSTAGE</td>\n",
       "      <td>3</td>\n",
       "      <td>12/1/2010 8:45</td>\n",
       "      <td>18.0</td>\n",
       "      <td>12583.0</td>\n",
       "      <td>France</td>\n",
       "      <td>False</td>\n",
       "    </tr>\n",
       "    <tr>\n",
       "      <th>386</th>\n",
       "      <td>536403</td>\n",
       "      <td>POST</td>\n",
       "      <td>POSTAGE</td>\n",
       "      <td>1</td>\n",
       "      <td>12/1/2010 11:27</td>\n",
       "      <td>15.0</td>\n",
       "      <td>12791.0</td>\n",
       "      <td>Netherlands</td>\n",
       "      <td>False</td>\n",
       "    </tr>\n",
       "    <tr>\n",
       "      <th>1123</th>\n",
       "      <td>536527</td>\n",
       "      <td>POST</td>\n",
       "      <td>POSTAGE</td>\n",
       "      <td>1</td>\n",
       "      <td>12/1/2010 13:04</td>\n",
       "      <td>18.0</td>\n",
       "      <td>12662.0</td>\n",
       "      <td>Germany</td>\n",
       "      <td>False</td>\n",
       "    </tr>\n",
       "    <tr>\n",
       "      <th>5073</th>\n",
       "      <td>536840</td>\n",
       "      <td>POST</td>\n",
       "      <td>POSTAGE</td>\n",
       "      <td>1</td>\n",
       "      <td>12/2/2010 18:27</td>\n",
       "      <td>18.0</td>\n",
       "      <td>12738.0</td>\n",
       "      <td>Germany</td>\n",
       "      <td>False</td>\n",
       "    </tr>\n",
       "    <tr>\n",
       "      <th>5258</th>\n",
       "      <td>536852</td>\n",
       "      <td>POST</td>\n",
       "      <td>POSTAGE</td>\n",
       "      <td>1</td>\n",
       "      <td>12/3/2010 9:51</td>\n",
       "      <td>18.0</td>\n",
       "      <td>12686.0</td>\n",
       "      <td>France</td>\n",
       "      <td>False</td>\n",
       "    </tr>\n",
       "    <tr>\n",
       "      <th>...</th>\n",
       "      <td>...</td>\n",
       "      <td>...</td>\n",
       "      <td>...</td>\n",
       "      <td>...</td>\n",
       "      <td>...</td>\n",
       "      <td>...</td>\n",
       "      <td>...</td>\n",
       "      <td>...</td>\n",
       "      <td>...</td>\n",
       "    </tr>\n",
       "    <tr>\n",
       "      <th>541198</th>\n",
       "      <td>581493</td>\n",
       "      <td>POST</td>\n",
       "      <td>POSTAGE</td>\n",
       "      <td>1</td>\n",
       "      <td>12/9/2011 10:10</td>\n",
       "      <td>15.0</td>\n",
       "      <td>12423.0</td>\n",
       "      <td>Belgium</td>\n",
       "      <td>False</td>\n",
       "    </tr>\n",
       "    <tr>\n",
       "      <th>541216</th>\n",
       "      <td>581494</td>\n",
       "      <td>POST</td>\n",
       "      <td>POSTAGE</td>\n",
       "      <td>2</td>\n",
       "      <td>12/9/2011 10:13</td>\n",
       "      <td>18.0</td>\n",
       "      <td>12518.0</td>\n",
       "      <td>Germany</td>\n",
       "      <td>False</td>\n",
       "    </tr>\n",
       "    <tr>\n",
       "      <th>541730</th>\n",
       "      <td>581570</td>\n",
       "      <td>POST</td>\n",
       "      <td>POSTAGE</td>\n",
       "      <td>1</td>\n",
       "      <td>12/9/2011 11:59</td>\n",
       "      <td>18.0</td>\n",
       "      <td>12662.0</td>\n",
       "      <td>Germany</td>\n",
       "      <td>False</td>\n",
       "    </tr>\n",
       "    <tr>\n",
       "      <th>541767</th>\n",
       "      <td>581574</td>\n",
       "      <td>POST</td>\n",
       "      <td>POSTAGE</td>\n",
       "      <td>2</td>\n",
       "      <td>12/9/2011 12:09</td>\n",
       "      <td>18.0</td>\n",
       "      <td>12526.0</td>\n",
       "      <td>Germany</td>\n",
       "      <td>False</td>\n",
       "    </tr>\n",
       "    <tr>\n",
       "      <th>541768</th>\n",
       "      <td>581578</td>\n",
       "      <td>POST</td>\n",
       "      <td>POSTAGE</td>\n",
       "      <td>3</td>\n",
       "      <td>12/9/2011 12:16</td>\n",
       "      <td>18.0</td>\n",
       "      <td>12713.0</td>\n",
       "      <td>Germany</td>\n",
       "      <td>False</td>\n",
       "    </tr>\n",
       "  </tbody>\n",
       "</table>\n",
       "<p>1256 rows × 9 columns</p>\n",
       "</div>"
      ],
      "text/plain": [
       "       InvoiceNo StockCode Description  Quantity      InvoiceDate  UnitPrice  \\\n",
       "45        536370      POST     POSTAGE         3   12/1/2010 8:45       18.0   \n",
       "386       536403      POST     POSTAGE         1  12/1/2010 11:27       15.0   \n",
       "1123      536527      POST     POSTAGE         1  12/1/2010 13:04       18.0   \n",
       "5073      536840      POST     POSTAGE         1  12/2/2010 18:27       18.0   \n",
       "5258      536852      POST     POSTAGE         1   12/3/2010 9:51       18.0   \n",
       "...          ...       ...         ...       ...              ...        ...   \n",
       "541198    581493      POST     POSTAGE         1  12/9/2011 10:10       15.0   \n",
       "541216    581494      POST     POSTAGE         2  12/9/2011 10:13       18.0   \n",
       "541730    581570      POST     POSTAGE         1  12/9/2011 11:59       18.0   \n",
       "541767    581574      POST     POSTAGE         2  12/9/2011 12:09       18.0   \n",
       "541768    581578      POST     POSTAGE         3  12/9/2011 12:16       18.0   \n",
       "\n",
       "        CustomerID      Country  cancelled  \n",
       "45         12583.0       France      False  \n",
       "386        12791.0  Netherlands      False  \n",
       "1123       12662.0      Germany      False  \n",
       "5073       12738.0      Germany      False  \n",
       "5258       12686.0       France      False  \n",
       "...            ...          ...        ...  \n",
       "541198     12423.0      Belgium      False  \n",
       "541216     12518.0      Germany      False  \n",
       "541730     12662.0      Germany      False  \n",
       "541767     12526.0      Germany      False  \n",
       "541768     12713.0      Germany      False  \n",
       "\n",
       "[1256 rows x 9 columns]"
      ]
     },
     "execution_count": 168,
     "metadata": {},
     "output_type": "execute_result"
    }
   ],
   "source": [
    "df[df['StockCode'] == 'POST']"
   ]
  },
  {
   "cell_type": "markdown",
   "id": "5008145a-d8d9-4566-ba9e-4e7d27c88838",
   "metadata": {},
   "source": [
    "We found some special values in StockCode column, these are:\n",
    "* **POST**: Postage (1256 rows, non-UK countries only)\n",
    "* **D**: Discount (77 rows)\n",
    "* **C2**: Carriage (144 rows)\n",
    "* **DOT**: Dotcom Postage (710 rows)\n",
    "* **M**: Manual (571 rows)\n",
    "* **S**: Samples (63 rows)\n",
    "* **m**: Manual (1 row, probably typo, this has to be uppercase M)\n",
    "* **PADS**: Pads to match all cushions (4 rows)\n",
    "* **B**: Adjust bad debt (3 rows)\n",
    "* **CRUK**: CRUK Commission (16 rows)\n",
    "* **AMAZONFEE**: Amazon fee (34 rows)\n",
    "* **BANK CHARGES**: Bank Charges (37 rows)"
   ]
  },
  {
   "cell_type": "markdown",
   "id": "5be007bd-2487-4659-ae8d-d7f136473389",
   "metadata": {},
   "source": [
    "### 2.5 UnitPrice"
   ]
  },
  {
   "cell_type": "markdown",
   "id": "3446de7c-63a5-4900-bb30-23b75f37cf17",
   "metadata": {},
   "source": [
    "UnitPrice shows the price of each individual product. Since transactions are split in several rows of the dataframe let's compute the total price for each purchase grouping by InvoiceID and taking into account the value of the Quantity column"
   ]
  },
  {
   "cell_type": "code",
   "execution_count": 176,
   "id": "8d590c15-98f1-48fd-9b0c-d2ba0dd31f82",
   "metadata": {},
   "outputs": [],
   "source": [
    "df['total_price'] = df['UnitPrice'] * df['Quantity']\n",
    "df['order_price'] = df.groupby('InvoiceNo')['total_price'].transform('sum')\n",
    "df.drop('total_price', axis=1, inplace=True)"
   ]
  },
  {
   "cell_type": "code",
   "execution_count": 177,
   "id": "40aa4cd4-b974-4d77-aa07-efbeea2183bd",
   "metadata": {},
   "outputs": [
    {
     "data": {
      "text/html": [
       "<div>\n",
       "<style scoped>\n",
       "    .dataframe tbody tr th:only-of-type {\n",
       "        vertical-align: middle;\n",
       "    }\n",
       "\n",
       "    .dataframe tbody tr th {\n",
       "        vertical-align: top;\n",
       "    }\n",
       "\n",
       "    .dataframe thead th {\n",
       "        text-align: right;\n",
       "    }\n",
       "</style>\n",
       "<table border=\"1\" class=\"dataframe\">\n",
       "  <thead>\n",
       "    <tr style=\"text-align: right;\">\n",
       "      <th></th>\n",
       "      <th>InvoiceNo</th>\n",
       "      <th>StockCode</th>\n",
       "      <th>Description</th>\n",
       "      <th>Quantity</th>\n",
       "      <th>InvoiceDate</th>\n",
       "      <th>UnitPrice</th>\n",
       "      <th>CustomerID</th>\n",
       "      <th>Country</th>\n",
       "      <th>cancelled</th>\n",
       "      <th>order_price</th>\n",
       "    </tr>\n",
       "  </thead>\n",
       "  <tbody>\n",
       "    <tr>\n",
       "      <th>0</th>\n",
       "      <td>536365</td>\n",
       "      <td>85123A</td>\n",
       "      <td>WHITE HANGING HEART T-LIGHT HOLDER</td>\n",
       "      <td>6</td>\n",
       "      <td>12/1/2010 8:26</td>\n",
       "      <td>2.55</td>\n",
       "      <td>17850.0</td>\n",
       "      <td>United Kingdom</td>\n",
       "      <td>False</td>\n",
       "      <td>139.12</td>\n",
       "    </tr>\n",
       "    <tr>\n",
       "      <th>1</th>\n",
       "      <td>536365</td>\n",
       "      <td>71053</td>\n",
       "      <td>WHITE METAL LANTERN</td>\n",
       "      <td>6</td>\n",
       "      <td>12/1/2010 8:26</td>\n",
       "      <td>3.39</td>\n",
       "      <td>17850.0</td>\n",
       "      <td>United Kingdom</td>\n",
       "      <td>False</td>\n",
       "      <td>139.12</td>\n",
       "    </tr>\n",
       "    <tr>\n",
       "      <th>2</th>\n",
       "      <td>536365</td>\n",
       "      <td>84406B</td>\n",
       "      <td>CREAM CUPID HEARTS COAT HANGER</td>\n",
       "      <td>8</td>\n",
       "      <td>12/1/2010 8:26</td>\n",
       "      <td>2.75</td>\n",
       "      <td>17850.0</td>\n",
       "      <td>United Kingdom</td>\n",
       "      <td>False</td>\n",
       "      <td>139.12</td>\n",
       "    </tr>\n",
       "    <tr>\n",
       "      <th>3</th>\n",
       "      <td>536365</td>\n",
       "      <td>84029G</td>\n",
       "      <td>KNITTED UNION FLAG HOT WATER BOTTLE</td>\n",
       "      <td>6</td>\n",
       "      <td>12/1/2010 8:26</td>\n",
       "      <td>3.39</td>\n",
       "      <td>17850.0</td>\n",
       "      <td>United Kingdom</td>\n",
       "      <td>False</td>\n",
       "      <td>139.12</td>\n",
       "    </tr>\n",
       "    <tr>\n",
       "      <th>4</th>\n",
       "      <td>536365</td>\n",
       "      <td>84029E</td>\n",
       "      <td>RED WOOLLY HOTTIE WHITE HEART.</td>\n",
       "      <td>6</td>\n",
       "      <td>12/1/2010 8:26</td>\n",
       "      <td>3.39</td>\n",
       "      <td>17850.0</td>\n",
       "      <td>United Kingdom</td>\n",
       "      <td>False</td>\n",
       "      <td>139.12</td>\n",
       "    </tr>\n",
       "  </tbody>\n",
       "</table>\n",
       "</div>"
      ],
      "text/plain": [
       "  InvoiceNo StockCode                          Description  Quantity  \\\n",
       "0    536365    85123A   WHITE HANGING HEART T-LIGHT HOLDER         6   \n",
       "1    536365     71053                  WHITE METAL LANTERN         6   \n",
       "2    536365    84406B       CREAM CUPID HEARTS COAT HANGER         8   \n",
       "3    536365    84029G  KNITTED UNION FLAG HOT WATER BOTTLE         6   \n",
       "4    536365    84029E       RED WOOLLY HOTTIE WHITE HEART.         6   \n",
       "\n",
       "      InvoiceDate  UnitPrice  CustomerID         Country  cancelled  \\\n",
       "0  12/1/2010 8:26       2.55     17850.0  United Kingdom      False   \n",
       "1  12/1/2010 8:26       3.39     17850.0  United Kingdom      False   \n",
       "2  12/1/2010 8:26       2.75     17850.0  United Kingdom      False   \n",
       "3  12/1/2010 8:26       3.39     17850.0  United Kingdom      False   \n",
       "4  12/1/2010 8:26       3.39     17850.0  United Kingdom      False   \n",
       "\n",
       "   order_price  \n",
       "0       139.12  \n",
       "1       139.12  \n",
       "2       139.12  \n",
       "3       139.12  \n",
       "4       139.12  "
      ]
     },
     "execution_count": 177,
     "metadata": {},
     "output_type": "execute_result"
    }
   ],
   "source": [
    "df.head()"
   ]
  },
  {
   "cell_type": "code",
   "execution_count": 180,
   "id": "26856e94-b36b-4c9d-a352-0c8bc8fc322a",
   "metadata": {},
   "outputs": [
    {
     "data": {
      "text/html": [
       "<div>\n",
       "<style scoped>\n",
       "    .dataframe tbody tr th:only-of-type {\n",
       "        vertical-align: middle;\n",
       "    }\n",
       "\n",
       "    .dataframe tbody tr th {\n",
       "        vertical-align: top;\n",
       "    }\n",
       "\n",
       "    .dataframe thead th {\n",
       "        text-align: right;\n",
       "    }\n",
       "</style>\n",
       "<table border=\"1\" class=\"dataframe\">\n",
       "  <thead>\n",
       "    <tr style=\"text-align: right;\">\n",
       "      <th></th>\n",
       "      <th>InvoiceNo</th>\n",
       "      <th>StockCode</th>\n",
       "      <th>Description</th>\n",
       "      <th>Quantity</th>\n",
       "      <th>InvoiceDate</th>\n",
       "      <th>UnitPrice</th>\n",
       "      <th>CustomerID</th>\n",
       "      <th>Country</th>\n",
       "      <th>cancelled</th>\n",
       "      <th>order_price</th>\n",
       "    </tr>\n",
       "  </thead>\n",
       "  <tbody>\n",
       "    <tr>\n",
       "      <th>0</th>\n",
       "      <td>536365</td>\n",
       "      <td>85123A</td>\n",
       "      <td>WHITE HANGING HEART T-LIGHT HOLDER</td>\n",
       "      <td>6</td>\n",
       "      <td>12/1/2010 8:26</td>\n",
       "      <td>2.55</td>\n",
       "      <td>17850.0</td>\n",
       "      <td>United Kingdom</td>\n",
       "      <td>False</td>\n",
       "      <td>139.12</td>\n",
       "    </tr>\n",
       "    <tr>\n",
       "      <th>1</th>\n",
       "      <td>536365</td>\n",
       "      <td>71053</td>\n",
       "      <td>WHITE METAL LANTERN</td>\n",
       "      <td>6</td>\n",
       "      <td>12/1/2010 8:26</td>\n",
       "      <td>3.39</td>\n",
       "      <td>17850.0</td>\n",
       "      <td>United Kingdom</td>\n",
       "      <td>False</td>\n",
       "      <td>139.12</td>\n",
       "    </tr>\n",
       "    <tr>\n",
       "      <th>2</th>\n",
       "      <td>536365</td>\n",
       "      <td>84406B</td>\n",
       "      <td>CREAM CUPID HEARTS COAT HANGER</td>\n",
       "      <td>8</td>\n",
       "      <td>12/1/2010 8:26</td>\n",
       "      <td>2.75</td>\n",
       "      <td>17850.0</td>\n",
       "      <td>United Kingdom</td>\n",
       "      <td>False</td>\n",
       "      <td>139.12</td>\n",
       "    </tr>\n",
       "    <tr>\n",
       "      <th>3</th>\n",
       "      <td>536365</td>\n",
       "      <td>84029G</td>\n",
       "      <td>KNITTED UNION FLAG HOT WATER BOTTLE</td>\n",
       "      <td>6</td>\n",
       "      <td>12/1/2010 8:26</td>\n",
       "      <td>3.39</td>\n",
       "      <td>17850.0</td>\n",
       "      <td>United Kingdom</td>\n",
       "      <td>False</td>\n",
       "      <td>139.12</td>\n",
       "    </tr>\n",
       "    <tr>\n",
       "      <th>4</th>\n",
       "      <td>536365</td>\n",
       "      <td>84029E</td>\n",
       "      <td>RED WOOLLY HOTTIE WHITE HEART.</td>\n",
       "      <td>6</td>\n",
       "      <td>12/1/2010 8:26</td>\n",
       "      <td>3.39</td>\n",
       "      <td>17850.0</td>\n",
       "      <td>United Kingdom</td>\n",
       "      <td>False</td>\n",
       "      <td>139.12</td>\n",
       "    </tr>\n",
       "    <tr>\n",
       "      <th>5</th>\n",
       "      <td>536365</td>\n",
       "      <td>22752</td>\n",
       "      <td>SET 7 BABUSHKA NESTING BOXES</td>\n",
       "      <td>2</td>\n",
       "      <td>12/1/2010 8:26</td>\n",
       "      <td>7.65</td>\n",
       "      <td>17850.0</td>\n",
       "      <td>United Kingdom</td>\n",
       "      <td>False</td>\n",
       "      <td>139.12</td>\n",
       "    </tr>\n",
       "    <tr>\n",
       "      <th>6</th>\n",
       "      <td>536365</td>\n",
       "      <td>21730</td>\n",
       "      <td>GLASS STAR FROSTED T-LIGHT HOLDER</td>\n",
       "      <td>6</td>\n",
       "      <td>12/1/2010 8:26</td>\n",
       "      <td>4.25</td>\n",
       "      <td>17850.0</td>\n",
       "      <td>United Kingdom</td>\n",
       "      <td>False</td>\n",
       "      <td>139.12</td>\n",
       "    </tr>\n",
       "  </tbody>\n",
       "</table>\n",
       "</div>"
      ],
      "text/plain": [
       "  InvoiceNo StockCode                          Description  Quantity  \\\n",
       "0    536365    85123A   WHITE HANGING HEART T-LIGHT HOLDER         6   \n",
       "1    536365     71053                  WHITE METAL LANTERN         6   \n",
       "2    536365    84406B       CREAM CUPID HEARTS COAT HANGER         8   \n",
       "3    536365    84029G  KNITTED UNION FLAG HOT WATER BOTTLE         6   \n",
       "4    536365    84029E       RED WOOLLY HOTTIE WHITE HEART.         6   \n",
       "5    536365     22752         SET 7 BABUSHKA NESTING BOXES         2   \n",
       "6    536365     21730    GLASS STAR FROSTED T-LIGHT HOLDER         6   \n",
       "\n",
       "      InvoiceDate  UnitPrice  CustomerID         Country  cancelled  \\\n",
       "0  12/1/2010 8:26       2.55     17850.0  United Kingdom      False   \n",
       "1  12/1/2010 8:26       3.39     17850.0  United Kingdom      False   \n",
       "2  12/1/2010 8:26       2.75     17850.0  United Kingdom      False   \n",
       "3  12/1/2010 8:26       3.39     17850.0  United Kingdom      False   \n",
       "4  12/1/2010 8:26       3.39     17850.0  United Kingdom      False   \n",
       "5  12/1/2010 8:26       7.65     17850.0  United Kingdom      False   \n",
       "6  12/1/2010 8:26       4.25     17850.0  United Kingdom      False   \n",
       "\n",
       "   order_price  \n",
       "0       139.12  \n",
       "1       139.12  \n",
       "2       139.12  \n",
       "3       139.12  \n",
       "4       139.12  \n",
       "5       139.12  \n",
       "6       139.12  "
      ]
     },
     "execution_count": 180,
     "metadata": {},
     "output_type": "execute_result"
    }
   ],
   "source": [
    "# checking new order_price col is correct\n",
    "sample = df[df['InvoiceNo'] == '536365']\n",
    "sample"
   ]
  },
  {
   "cell_type": "code",
   "execution_count": 181,
   "id": "6ef6e9db-9a9d-4697-8f9d-ad62967e426a",
   "metadata": {},
   "outputs": [
    {
     "data": {
      "text/plain": [
       "139.12"
      ]
     },
     "execution_count": 181,
     "metadata": {},
     "output_type": "execute_result"
    }
   ],
   "source": [
    "(sample['UnitPrice'] * sample['Quantity']).sum()"
   ]
  },
  {
   "cell_type": "markdown",
   "id": "432e7f57-ff06-4b3e-bbbe-61bfab73d43e",
   "metadata": {},
   "source": [
    "It's correct"
   ]
  },
  {
   "cell_type": "code",
   "execution_count": 211,
   "id": "ca746414-9342-4d49-a2b2-749298ea17b0",
   "metadata": {},
   "outputs": [
    {
     "data": {
      "image/png": "[encoded data removed]",
      "text/plain": [
       "<Figure size 432x288 with 1 Axes>"
      ]
     },
     "metadata": {
      "needs_background": "light"
     },
     "output_type": "display_data"
    }
   ],
   "source": [
    "bins = [1, 50, 100, 200, 500, 1000, 2000, 5000, 50000]\n",
    "prices_bins = pd.cut(df['order_price'], bins=bins).value_counts()\n",
    "sns.barplot( prices_bins.index,prices_bins, color='cornflowerblue')\n",
    "plt.xticks(rotation=45)\n",
    "sns.despine();\n",
    "plt.xlabel('Price Range')\n",
    "plt.ylabel('Count')\n",
    "plt.title('Purchase amount distribution by price ranges');"
   ]
  },
  {
   "cell_type": "markdown",
   "id": "effa43a6-2c29-4aa9-9af7-43b88cc7f842",
   "metadata": {},
   "source": [
    "* Vast majority of purchases exceed £200"
   ]
  }
 ],
 "metadata": {
  "kernelspec": {
   "display_name": "Python 3",
   "language": "python",
   "name": "python3"
  },
  "language_info": {
   "codemirror_mode": {
    "name": "ipython",
    "version": 3
   },
   "file_extension": ".py",
   "mimetype": "text/x-python",
   "name": "python",
   "nbconvert_exporter": "python",
   "pygments_lexer": "ipython3",
   "version": "3.9.4"
  }
 },
 "nbformat": 4,
 "nbformat_minor": 5
}
